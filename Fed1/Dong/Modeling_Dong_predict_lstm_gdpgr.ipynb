{
 "cells": [
  {
   "cell_type": "code",
   "execution_count": 150,
   "id": "2d80b390-7f6c-468a-8b9a-c711fcbde52d",
   "metadata": {},
   "outputs": [],
   "source": [
    "import pandas as pd\n",
    "import matplotlib.pyplot as plt\n",
    "import re\n",
    "from collections import Counter\n",
    "from sklearn.feature_extraction.text import CountVectorizer # n-gram\n",
    "from wordcloud import WordCloud\n",
    "import nltk\n",
    "from nltk.sentiment.vader import SentimentIntensityAnalyzer\n",
    "\n",
    "plt.rcParams['font.family'] ='Malgun Gothic'\n",
    "plt.rcParams['axes.unicode_minus'] =False"
   ]
  },
  {
   "cell_type": "code",
   "execution_count": 151,
   "id": "71dfda57-4e1a-4378-93bd-45616db9db62",
   "metadata": {},
   "outputs": [
    {
     "data": {
      "text/html": [
       "<div>\n",
       "<style scoped>\n",
       "    .dataframe tbody tr th:only-of-type {\n",
       "        vertical-align: middle;\n",
       "    }\n",
       "\n",
       "    .dataframe tbody tr th {\n",
       "        vertical-align: top;\n",
       "    }\n",
       "\n",
       "    .dataframe thead th {\n",
       "        text-align: right;\n",
       "    }\n",
       "</style>\n",
       "<table border=\"1\" class=\"dataframe\">\n",
       "  <thead>\n",
       "    <tr style=\"text-align: right;\">\n",
       "      <th></th>\n",
       "      <th>DATE</th>\n",
       "      <th>DFEDTARU</th>\n",
       "      <th>DFEDTARL</th>\n",
       "      <th>IR_FORCAST</th>\n",
       "      <th>GDPGR</th>\n",
       "      <th>UNRATE</th>\n",
       "      <th>PCEPI</th>\n",
       "      <th>TNX</th>\n",
       "      <th>USD</th>\n",
       "      <th>KR_IR</th>\n",
       "      <th>ECB_IR</th>\n",
       "      <th>BB_text</th>\n",
       "      <th>BB_neg</th>\n",
       "      <th>BB_neu</th>\n",
       "      <th>BB_pos</th>\n",
       "      <th>BB_sentiment</th>\n",
       "      <th>DATE_YM</th>\n",
       "    </tr>\n",
       "  </thead>\n",
       "  <tbody>\n",
       "    <tr>\n",
       "      <th>0</th>\n",
       "      <td>2008-12-01</td>\n",
       "      <td>0.25</td>\n",
       "      <td>0.0</td>\n",
       "      <td>0.50</td>\n",
       "      <td>-8.5</td>\n",
       "      <td>7.3</td>\n",
       "      <td>88.098</td>\n",
       "      <td>2.244</td>\n",
       "      <td>1259.5</td>\n",
       "      <td>3.0</td>\n",
       "      <td>2.50</td>\n",
       "      <td>Prepared at the Federal Reserve Bank of Minnea...</td>\n",
       "      <td>0.080</td>\n",
       "      <td>0.839</td>\n",
       "      <td>0.082</td>\n",
       "      <td>0.9133</td>\n",
       "      <td>2008-12</td>\n",
       "    </tr>\n",
       "    <tr>\n",
       "      <th>1</th>\n",
       "      <td>2009-01-01</td>\n",
       "      <td>0.25</td>\n",
       "      <td>0.0</td>\n",
       "      <td>0.25</td>\n",
       "      <td>-4.5</td>\n",
       "      <td>7.8</td>\n",
       "      <td>88.108</td>\n",
       "      <td>2.844</td>\n",
       "      <td>1379.5</td>\n",
       "      <td>2.5</td>\n",
       "      <td>2.00</td>\n",
       "      <td>Prepared at the Federal Reserve Bank of St. Lo...</td>\n",
       "      <td>0.061</td>\n",
       "      <td>0.865</td>\n",
       "      <td>0.074</td>\n",
       "      <td>0.9952</td>\n",
       "      <td>2009-01</td>\n",
       "    </tr>\n",
       "    <tr>\n",
       "      <th>2</th>\n",
       "      <td>2009-02-01</td>\n",
       "      <td>0.25</td>\n",
       "      <td>0.0</td>\n",
       "      <td>0.25</td>\n",
       "      <td>-4.5</td>\n",
       "      <td>8.3</td>\n",
       "      <td>88.266</td>\n",
       "      <td>3.041</td>\n",
       "      <td>1534.0</td>\n",
       "      <td>2.0</td>\n",
       "      <td>2.00</td>\n",
       "      <td>Prepared at the Federal Reserve Bank of St. Lo...</td>\n",
       "      <td>0.061</td>\n",
       "      <td>0.865</td>\n",
       "      <td>0.074</td>\n",
       "      <td>0.9952</td>\n",
       "      <td>2009-02</td>\n",
       "    </tr>\n",
       "    <tr>\n",
       "      <th>3</th>\n",
       "      <td>2009-03-01</td>\n",
       "      <td>0.25</td>\n",
       "      <td>0.0</td>\n",
       "      <td>0.25</td>\n",
       "      <td>-4.5</td>\n",
       "      <td>8.7</td>\n",
       "      <td>88.169</td>\n",
       "      <td>2.685</td>\n",
       "      <td>1383.5</td>\n",
       "      <td>2.0</td>\n",
       "      <td>1.50</td>\n",
       "      <td>Prepared at the Federal Reserve Bank of San Fr...</td>\n",
       "      <td>0.083</td>\n",
       "      <td>0.839</td>\n",
       "      <td>0.078</td>\n",
       "      <td>0.5459</td>\n",
       "      <td>2009-03</td>\n",
       "    </tr>\n",
       "    <tr>\n",
       "      <th>4</th>\n",
       "      <td>2009-04-01</td>\n",
       "      <td>0.25</td>\n",
       "      <td>0.0</td>\n",
       "      <td>0.25</td>\n",
       "      <td>-0.7</td>\n",
       "      <td>9.0</td>\n",
       "      <td>88.295</td>\n",
       "      <td>3.124</td>\n",
       "      <td>1282.0</td>\n",
       "      <td>2.0</td>\n",
       "      <td>1.25</td>\n",
       "      <td>Prepared at the Federal Reserve Bank of Dallas...</td>\n",
       "      <td>0.092</td>\n",
       "      <td>0.826</td>\n",
       "      <td>0.082</td>\n",
       "      <td>-0.6999</td>\n",
       "      <td>2009-04</td>\n",
       "    </tr>\n",
       "  </tbody>\n",
       "</table>\n",
       "</div>"
      ],
      "text/plain": [
       "         DATE  DFEDTARU  DFEDTARL  IR_FORCAST  GDPGR  UNRATE   PCEPI    TNX  \\\n",
       "0  2008-12-01      0.25       0.0        0.50   -8.5     7.3  88.098  2.244   \n",
       "1  2009-01-01      0.25       0.0        0.25   -4.5     7.8  88.108  2.844   \n",
       "2  2009-02-01      0.25       0.0        0.25   -4.5     8.3  88.266  3.041   \n",
       "3  2009-03-01      0.25       0.0        0.25   -4.5     8.7  88.169  2.685   \n",
       "4  2009-04-01      0.25       0.0        0.25   -0.7     9.0  88.295  3.124   \n",
       "\n",
       "      USD  KR_IR  ECB_IR                                            BB_text  \\\n",
       "0  1259.5    3.0    2.50  Prepared at the Federal Reserve Bank of Minnea...   \n",
       "1  1379.5    2.5    2.00  Prepared at the Federal Reserve Bank of St. Lo...   \n",
       "2  1534.0    2.0    2.00  Prepared at the Federal Reserve Bank of St. Lo...   \n",
       "3  1383.5    2.0    1.50  Prepared at the Federal Reserve Bank of San Fr...   \n",
       "4  1282.0    2.0    1.25  Prepared at the Federal Reserve Bank of Dallas...   \n",
       "\n",
       "   BB_neg  BB_neu  BB_pos  BB_sentiment  DATE_YM  \n",
       "0   0.080   0.839   0.082        0.9133  2008-12  \n",
       "1   0.061   0.865   0.074        0.9952  2009-01  \n",
       "2   0.061   0.865   0.074        0.9952  2009-02  \n",
       "3   0.083   0.839   0.078        0.5459  2009-03  \n",
       "4   0.092   0.826   0.082       -0.6999  2009-04  "
      ]
     },
     "execution_count": 151,
     "metadata": {},
     "output_type": "execute_result"
    }
   ],
   "source": [
    "file_path = './../../Fed1_dataset/Interest_rate_prediction.csv'\n",
    "\n",
    "# FED_ir의 의미 : FED interest rate\n",
    "df_irp = pd.read_csv(file_path)\n",
    "\n",
    "df_irp.head()"
   ]
  },
  {
   "cell_type": "markdown",
   "id": "0eb38bf0-66f4-4f51-9f0f-e6b5ae35e78c",
   "metadata": {},
   "source": [
    "전처리"
   ]
  },
  {
   "cell_type": "code",
   "execution_count": 153,
   "id": "6bbd8b12-c05d-43bb-a98f-78db0607585a",
   "metadata": {},
   "outputs": [],
   "source": [
    "df_irp['DATE'] = pd.to_datetime(df_irp['DATE']) # 날짤형으로 변환"
   ]
  },
  {
   "cell_type": "code",
   "execution_count": 154,
   "id": "6cd1d66d-d519-45f9-be22-321f55dcfa4d",
   "metadata": {},
   "outputs": [
    {
     "data": {
      "text/plain": [
       "DATE            datetime64[ns]\n",
       "DFEDTARU               float64\n",
       "DFEDTARL               float64\n",
       "IR_FORCAST             float64\n",
       "GDPGR                  float64\n",
       "UNRATE                 float64\n",
       "PCEPI                  float64\n",
       "TNX                    float64\n",
       "USD                    float64\n",
       "KR_IR                  float64\n",
       "ECB_IR                 float64\n",
       "BB_text                 object\n",
       "BB_neg                 float64\n",
       "BB_neu                 float64\n",
       "BB_pos                 float64\n",
       "BB_sentiment           float64\n",
       "DATE_YM                 object\n",
       "dtype: object"
      ]
     },
     "execution_count": 154,
     "metadata": {},
     "output_type": "execute_result"
    }
   ],
   "source": [
    "df_irp.dtypes"
   ]
  },
  {
   "cell_type": "code",
   "execution_count": 155,
   "id": "a072fb87-6963-44ce-9310-4e95a7fa448b",
   "metadata": {},
   "outputs": [
    {
     "data": {
      "image/png": "[encoded data removed]",
      "text/plain": [
       "<Figure size 800x600 with 1 Axes>"
      ]
     },
     "metadata": {},
     "output_type": "display_data"
    }
   ],
   "source": [
    "# 접속사들이 주로 나와서 전처리 필요\n",
    "plt.figure(figsize=(8,6))\n",
    "\n",
    "# 단어 빈도 계산\n",
    "word_counts = Counter(' '.join(df_irp['BB_text']).split())\n",
    "\n",
    "# 상위 20개 단어 시각화\n",
    "common_words = word_counts.most_common(20)\n",
    "words, counts = zip(*common_words)\n",
    "\n",
    "plt.bar(words, counts)\n",
    "plt.xticks(rotation=90)\n",
    "plt.show()"
   ]
  },
  {
   "cell_type": "code",
   "execution_count": 156,
   "id": "3182a693-b24a-443a-a02b-be3c91ed59e6",
   "metadata": {},
   "outputs": [],
   "source": [
    "df_irp['BB_text'] = df_irp['BB_text'].str.lower()  # 소문자로\n",
    "df_irp['BB_text'] = df_irp['BB_text'].str.strip()  # 앞뒤 공백 제거\n",
    "df_irp['BB_text'] = df_irp['BB_text'].str.replace('\\s+', ' ', regex=True)  # 중간 공백 제거\n",
    "# 숫자, 대문자, 소문자 알파벳 및 공백을 제외한 모든 문자 제거\n",
    "df_irp['BB_text'] = df_irp['BB_text'].apply(lambda x: re.sub(r'[^a-zA-Z0-9\\s]', '', x))"
   ]
  },
  {
   "cell_type": "code",
   "execution_count": 157,
   "id": "aca509ab-bffa-4e0e-9822-d57fff555f92",
   "metadata": {},
   "outputs": [],
   "source": [
    "# 불용어 제거\n",
    "from nltk.corpus import stopwords\n",
    "stop_words = set(stopwords.words('english'))\n",
    "\n",
    "def remove_stopwords(text):\n",
    "    return ' '.join([word for word in text.split() if word not in stop_words])\n",
    "\n",
    "df_irp['BB_text'] = df_irp['BB_text'].apply(remove_stopwords)"
   ]
  },
  {
   "cell_type": "code",
   "execution_count": 158,
   "id": "c699cc96-0ea2-418b-baf7-276f2e1bd765",
   "metadata": {},
   "outputs": [
    {
     "data": {
      "image/png": "[encoded data removed]",
      "text/plain": [
       "<Figure size 800x600 with 1 Axes>"
      ]
     },
     "metadata": {},
     "output_type": "display_data"
    }
   ],
   "source": [
    "# 접속사들이 주로 나와서 전처리 필요\n",
    "plt.figure(figsize=(8,6))\n",
    "\n",
    "# 단어 빈도 계산\n",
    "word_counts = Counter(' '.join(df_irp['BB_text']).split())\n",
    "\n",
    "# 상위 20개 단어 시각화\n",
    "common_words = word_counts.most_common(20)\n",
    "words, counts = zip(*common_words)\n",
    "\n",
    "plt.bar(words, counts)\n",
    "plt.xticks(rotation=90)\n",
    "plt.show()"
   ]
  },
  {
   "cell_type": "code",
   "execution_count": 159,
   "id": "f8cbaa46-8a31-4089-97cf-5bcef9888d29",
   "metadata": {},
   "outputs": [
    {
     "data": {
      "image/png": "[encoded data removed]",
      "text/plain": [
       "<Figure size 800x600 with 1 Axes>"
      ]
     },
     "metadata": {},
     "output_type": "display_data"
    }
   ],
   "source": [
    "plt.figure(figsize=(8,6))\n",
    "\n",
    "# 문서 길이 계산\n",
    "df_irp['text_length'] = df_irp['BB_text'].apply(lambda x: len(x.split()))\n",
    "\n",
    "# 문서 길이 분포 시각화\n",
    "plt.hist(df_irp['text_length'], bins=50)\n",
    "plt.show()"
   ]
  },
  {
   "cell_type": "code",
   "execution_count": null,
   "id": "48ee7ed9-3c6f-42c3-8fc7-d05c574ffe6f",
   "metadata": {},
   "outputs": [],
   "source": [
    "plt.figure(figsize=(8,6))\n",
    "\n",
    "# 바이그램 분석\n",
    "vectorizer = CountVectorizer(ngram_range=(2, 2))\n",
    "X2 = vectorizer.fit_transform(df_irp['BB_text'])\n",
    "\n",
    "# 상위 20개 바이그램 시각화\n",
    "bi_grams = X2.sum(axis=0).A1\n",
    "bi_gram_counts = Counter(dict(zip(vectorizer.get_feature_names_out(), bi_grams)))\n",
    "common_bi_grams = bi_gram_counts.most_common(20)\n",
    "\n",
    "bi_grams, counts = zip(*common_bi_grams)\n",
    "\n",
    "plt.bar(bi_grams, counts)\n",
    "plt.xticks(rotation=90)\n",
    "plt.show()"
   ]
  },
  {
   "cell_type": "code",
   "execution_count": null,
   "id": "d4bd1ab4-a7b3-42de-b757-bf22a2309fd6",
   "metadata": {},
   "outputs": [],
   "source": [
    "# 단어 빈도 기반 WordCloud 생성\n",
    "wordcloud = WordCloud(width=800, height=400).generate(' '.join(df_irp['BB_text']))\n",
    "\n",
    "plt.figure(figsize=(12, 9))\n",
    "plt.imshow(wordcloud, interpolation='bilinear')\n",
    "plt.axis('off')\n",
    "plt.show()"
   ]
  },
  {
   "cell_type": "code",
   "execution_count": null,
   "id": "e3de53a4-b021-40b8-b139-de940c76e4ee",
   "metadata": {},
   "outputs": [],
   "source": [
    "# 연방준비은행 지역 목록 제거st louis와 같은 경우도 감안\n",
    "federal_reserve_banks = [\n",
    "    \"boston\", \n",
    "    \"new york\", \n",
    "    \"philadelphia\", \n",
    "    \"cleveland\", \n",
    "    \"richmond\", \n",
    "    \"atlanta\", \n",
    "    \"chicago\", \n",
    "    \"st. louis\", \n",
    "    \"minneapolis\", \n",
    "    \"kansas city\", \n",
    "    \"dallas\", \n",
    "    \"san francisco\",\n",
    "    \"st\",\n",
    "    \"louis\"\n",
    "]\n",
    "\n",
    "# 연방준비은행 지역 필터링 함수\n",
    "def remove_federal_reserve_banks(text, bank_list):\n",
    "    # 소문자 변환 및 정규표현식을 사용하여 지역 이름 제거\n",
    "    for bank in bank_list:\n",
    "        bank_pattern = re.compile(re.escape(bank), re.IGNORECASE)\n",
    "        text = bank_pattern.sub('', text)\n",
    "    return text\n",
    "\n",
    "# 연방준비은행 지역 제거\n",
    "df_irp['BB_text'] = df_irp['BB_text'].apply(lambda x: remove_federal_reserve_banks(x, federal_reserve_banks))"
   ]
  },
  {
   "cell_type": "code",
   "execution_count": null,
   "id": "037aba93-1203-47d0-9752-faa325dd0eb8",
   "metadata": {},
   "outputs": [],
   "source": [
    "# 접속사들이 주로 나와서 전처리 필요\n",
    "plt.figure(figsize=(8,6))\n",
    "\n",
    "# 단어 빈도 계산\n",
    "word_counts = Counter(' '.join(df_irp['BB_text']).split())\n",
    "\n",
    "# 상위 20개 단어 시각화\n",
    "common_words = word_counts.most_common(20)\n",
    "words, counts = zip(*common_words)\n",
    "\n",
    "plt.bar(words, counts)\n",
    "plt.xticks(rotation=90)\n",
    "plt.show()"
   ]
  },
  {
   "cell_type": "code",
   "execution_count": null,
   "id": "d2989eff-cdb3-4d2b-971e-881e45a7f9a8",
   "metadata": {},
   "outputs": [],
   "source": [
    "plt.figure(figsize=(8,6))\n",
    "\n",
    "# 문서 길이 계산\n",
    "df_irp['text_length'] = df_irp['BB_text'].apply(lambda x: len(x.split()))\n",
    "\n",
    "# 문서 길이 분포 시각화\n",
    "plt.hist(df_irp['text_length'], bins=50)\n",
    "plt.show()"
   ]
  },
  {
   "cell_type": "code",
   "execution_count": null,
   "id": "6fe025bd-0198-4251-8c17-5a6acd1852ff",
   "metadata": {},
   "outputs": [],
   "source": [
    "plt.figure(figsize=(8,6))\n",
    "\n",
    "# 바이그램 분석\n",
    "vectorizer = CountVectorizer(ngram_range=(2, 2))\n",
    "X2 = vectorizer.fit_transform(df_irp['BB_text'])\n",
    "\n",
    "# 상위 20개 바이그램 시각화\n",
    "bi_grams = X2.sum(axis=0).A1\n",
    "bi_gram_counts = Counter(dict(zip(vectorizer.get_feature_names_out(), bi_grams)))\n",
    "common_bi_grams = bi_gram_counts.most_common(20)\n",
    "\n",
    "bi_grams, counts = zip(*common_bi_grams)\n",
    "\n",
    "plt.bar(bi_grams, counts)\n",
    "plt.xticks(rotation=90)\n",
    "plt.show()"
   ]
  },
  {
   "cell_type": "code",
   "execution_count": null,
   "id": "8c15657e-e139-4260-af93-b32f6e119658",
   "metadata": {},
   "outputs": [],
   "source": [
    "# 단어 빈도 기반 WordCloud 생성\n",
    "wordcloud = WordCloud(width=800, height=400).generate(' '.join(df_irp['BB_text']))\n",
    "\n",
    "plt.figure(figsize=(12, 9))\n",
    "plt.imshow(wordcloud, interpolation='bilinear')\n",
    "plt.axis('off')\n",
    "plt.show()"
   ]
  },
  {
   "cell_type": "markdown",
   "id": "907207c6-bfad-42ab-8b05-400d58d1d573",
   "metadata": {},
   "source": [
    "감정분석 : 전처리 이전과 이후 비교"
   ]
  },
  {
   "cell_type": "code",
   "execution_count": null,
   "id": "c3dabdac-63d5-4a40-ad90-c13c08b9573f",
   "metadata": {},
   "outputs": [],
   "source": [
    "nltk.download('vader_lexicon')"
   ]
  },
  {
   "cell_type": "code",
   "execution_count": null,
   "id": "1a95327b-0357-4b66-97eb-9ddb0650c2bb",
   "metadata": {},
   "outputs": [],
   "source": [
    "sia = SentimentIntensityAnalyzer()\n",
    "\n",
    "def get_vader_sentiment(text):\n",
    "    sentiment = sia.polarity_scores(text)\n",
    "    return sentiment['neg'], sentiment['neu'], sentiment['pos'], sentiment['compound']\n",
    "\n",
    "df_irp[['f_neg', 'f_neu', 'f_pos', 'f_sentiment']] = df_irp['BB_text'].apply(lambda text: pd.Series(get_vader_sentiment(text)))\n",
    "\n",
    "df_irp"
   ]
  },
  {
   "cell_type": "markdown",
   "id": "0202f9a4-685c-47c8-8746-77bcbbf3c160",
   "metadata": {},
   "source": [
    "LSTM"
   ]
  },
  {
   "cell_type": "code",
   "execution_count": null,
   "id": "efc7efa4-c5a4-4a91-8123-25daa2233071",
   "metadata": {},
   "outputs": [],
   "source": [
    "import pandas as pd\n",
    "from sklearn.preprocessing import MinMaxScaler\n",
    "import numpy as np\n",
    "import matplotlib.pyplot as plt\n",
    "from tensorflow.keras.models import Sequential\n",
    "from tensorflow.keras.layers import LSTM, Dense, Dropout\n",
    "from tensorflow.keras.optimizers import Adam\n",
    "from sklearn.metrics import mean_squared_error, r2_score\n",
    "from sklearn.metrics import mean_absolute_percentage_error\n",
    "from sklearn.metrics import mean_squared_error, mean_absolute_error, r2_score\n",
    "from tensorflow.keras.callbacks import EarlyStopping"
   ]
  },
  {
   "cell_type": "code",
   "execution_count": null,
   "id": "29fce6dc-49a4-4217-9854-66b1fda63d43",
   "metadata": {},
   "outputs": [],
   "source": [
    "df_irp_new = df_irp[['DATE', 'DFEDTARU', 'GDPGR']]\n",
    "df_irp_new = df_irp_new.astype({'DATE': 'datetime64[ns]'})\n",
    "\n",
    "df_irp_new.sort_values('DATE', ascending=True, inplace=True)\n",
    "df_irp_new"
   ]
  },
  {
   "cell_type": "code",
   "execution_count": null,
   "id": "ab3965ad-cdd1-484d-a7df-c1a553717dee",
   "metadata": {},
   "outputs": [],
   "source": [
    "# 과거 데이터를 통해 미래데이터를 예측하기 때문에 MinMaxScaler 사용\n",
    "scaler = MinMaxScaler()\n",
    "scaled_df_irp = scaler.fit_transform(df_irp_new[['DFEDTARU', 'GDPGR']])\n",
    "\n",
    "def create_sequences(df_irp, sequence_length):\n",
    "    sequences = []\n",
    "    print(len(df_irp),',',sequence_length)\n",
    "    for i in range(len(df_irp) - sequence_length):\n",
    "        sequences.append(df_irp[i:i + sequence_length]) \n",
    "    return np.array(sequences)"
   ]
  },
  {
   "cell_type": "code",
   "execution_count": null,
   "id": "78491096-f366-45b4-9e5a-8a6cae8cf30e",
   "metadata": {},
   "outputs": [],
   "source": [
    "sequence_length = 12 # 과거 12개 데이터 사용\n",
    "sequences = create_sequences(scaled_df_irp, sequence_length)\n",
    "sequences.shape"
   ]
  },
  {
   "cell_type": "code",
   "execution_count": null,
   "id": "7a4bdb30-a64c-4e4b-8df0-ac9dc77998bc",
   "metadata": {},
   "outputs": [],
   "source": [
    "X = sequences[:, :, :]\n",
    "y = sequences[:, -1, 0]\n",
    "\n",
    "split_ratio = 0.8\n",
    "train_size = int(len(X) * split_ratio)\n",
    "\n",
    "X_train, X_test = X[:train_size], X[train_size:]\n",
    "y_train, y_test = y[:train_size], y[train_size:]\n",
    "\n",
    "model = Sequential()\n",
    "model.add(LSTM(64, return_sequences=True, input_shape=(X_train.shape[1], X_train.shape[2])))\n",
    "model.add(Dropout(0.2))\n",
    "model.add(LSTM(64))\n",
    "model.add(Dropout(0.2))\n",
    "model.add(Dense(1))\n",
    "\n",
    "model.compile(optimizer=Adam(learning_rate=0.001), loss='mean_squared_error', metrics='acc')\n",
    "# 검증 정확도 2번 개선 없으면 stop\n",
    "early_stop = EarlyStopping(monitor='val_accuracy', patience=2, restore_best_weights=True)\n",
    "\n",
    "history = model.fit(X_train, y_train, epochs=100, batch_size=32, validation_split=0.1,callbacks=[early_stop])"
   ]
  },
  {
   "cell_type": "code",
   "execution_count": null,
   "id": "e5e63b63-f6a0-4968-aefd-99e204a853e3",
   "metadata": {},
   "outputs": [],
   "source": [
    "# 손실 시각화\n",
    "plt.plot(history.history['loss'], label='train loss')\n",
    "plt.plot(history.history['val_loss'], label='valid loss')\n",
    "plt.xlabel('Epochs')\n",
    "plt.ylabel('Loss')\n",
    "plt.legend()\n",
    "plt.show()"
   ]
  },
  {
   "cell_type": "code",
   "execution_count": null,
   "id": "db7cd066-e3ef-4337-a3b4-a044ee97f1c2",
   "metadata": {},
   "outputs": [],
   "source": [
    "result = model.evaluate(X_test, y_test)\n",
    "y_pred = model.predict(X_test)"
   ]
  },
  {
   "cell_type": "code",
   "execution_count": null,
   "id": "e63bb278-ca00-4f57-b815-e856ae59136c",
   "metadata": {},
   "outputs": [],
   "source": [
    "# 역변환 후 실제 예측값 출력\n",
    "y_pred_rescaled = scaler.inverse_transform(np.concatenate((y_pred, np.zeros((y_pred.shape[0], 1))), axis=1))[:, 0]\n",
    "y_test_rescaled = scaler.inverse_transform(np.concatenate((y_test.reshape(-1, 1), np.zeros((y_test.shape[0], 1))), axis=1))[:, 0]\n",
    "\n",
    "print('예측값 :',y_pred_rescaled)\n",
    "print('실제값 :',y_test_rescaled)"
   ]
  },
  {
   "cell_type": "code",
   "execution_count": null,
   "id": "78d8630e-087a-40da-88fd-456483c7ab40",
   "metadata": {},
   "outputs": [],
   "source": [
    "# 2024-08-01 예측\n",
    "last_sequence = scaled_df_irp[-sequence_length:]\n",
    "future_dates = pd.date_range(start=df_irp_new['DATE'].max(), periods=2, freq='MS')[1:]  # 2024-08-01 예측\n",
    "predictions = []\n",
    "\n",
    "for date in future_dates:\n",
    "    next_pred_scaled = model.predict(last_sequence[np.newaxis, :, :])\n",
    "    next_pred_rescaled = scaler.inverse_transform(np.concatenate((next_pred_scaled, np.zeros((next_pred_scaled.shape[0], 1))), axis=1))[:, 0]\n",
    "    predictions.append(next_pred_rescaled[0])\n",
    "    # 시퀀스를 업데이트하여 다음 예측을 준비\n",
    "    last_sequence = np.append(last_sequence[1:], [[next_pred_scaled[0][0], np.nan]], axis=0)\n",
    "\n",
    "# 예측된 미래 데이터프레임 생성\n",
    "future_df = pd.DataFrame({\n",
    "    'MODEL':'LSTM',\n",
    "    #'DATE': future_dates,\n",
    "    'REAL': 5.25,\n",
    "    'PREDICT': [round(pred, 2) for pred in predictions],\n",
    "    'DIFF': [round(5.25 - pred, 2) for pred in predictions]\n",
    "})\n",
    "\n",
    "# 기존 파일에서 데이터 읽어오기 (파일이 존재하지 않는 경우 예외 처리)\n",
    "try:\n",
    "    existing_df = pd.read_csv('./result_Dong_model_202408.csv')\n",
    "    combined_df = pd.concat([existing_df, future_df], ignore_index=True)\n",
    "except FileNotFoundError:\n",
    "    combined_df = future_df\n",
    "\n",
    "# 결과를 CSV 파일로 저장\n",
    "combined_df.to_csv('./result_Dong_model_202408.csv', index=False)"
   ]
  },
  {
   "cell_type": "code",
   "execution_count": null,
   "id": "5f2e4084-c3b1-4f5a-809f-33d5b5690990",
   "metadata": {},
   "outputs": [],
   "source": []
  }
 ],
 "metadata": {
  "kernelspec": {
   "display_name": "Python 3 (ipykernel)",
   "language": "python",
   "name": "python3"
  },
  "language_info": {
   "codemirror_mode": {
    "name": "ipython",
    "version": 3
   },
   "file_extension": ".py",
   "mimetype": "text/x-python",
   "name": "python",
   "nbconvert_exporter": "python",
   "pygments_lexer": "ipython3",
   "version": "3.11.7"
  }
 },
 "nbformat": 4,
 "nbformat_minor": 5
}
