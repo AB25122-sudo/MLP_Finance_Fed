{
 "cells": [
  {
   "cell_type": "code",
   "execution_count": 32,
   "id": "20b1a999",
   "metadata": {},
   "outputs": [],
   "source": [
    "import pandas as pd, numpy as np, warnings, re\n",
    "import matplotlib.pyplot as plt, matplotlib, plotly.graph_objs as go, plotly.express as px, seaborn as sns\n",
    "warnings.filterwarnings(action = 'ignore')\n",
    "matplotlib.rcParams['axes.unicode_minus'] = False\n",
    "plt.rc('font', family = 'Malgun Gothic')\n",
    "\n",
    "from sklearn.model_selection import *\n",
    "from sklearn.linear_model import *\n",
    "from sklearn.model_selection import *\n",
    "from sklearn.preprocessing import *\n",
    "\n",
    "import tensorflow as tf\n",
    "from tensorflow.keras.models import *\n",
    "from tensorflow.keras.layers import *\n",
    "from tensorflow.keras.callbacks import *\n",
    "\n",
    "from nltk.corpus import stopwords\n",
    "from nltk.sentiment.vader import SentimentIntensityAnalyzer\n"
   ]
  },
  {
   "cell_type": "code",
   "execution_count": 34,
   "id": "4a5d4cc1",
   "metadata": {},
   "outputs": [
    {
     "data": {
      "text/html": [
       "<div>\n",
       "<style scoped>\n",
       "    .dataframe tbody tr th:only-of-type {\n",
       "        vertical-align: middle;\n",
       "    }\n",
       "\n",
       "    .dataframe tbody tr th {\n",
       "        vertical-align: top;\n",
       "    }\n",
       "\n",
       "    .dataframe thead th {\n",
       "        text-align: right;\n",
       "    }\n",
       "</style>\n",
       "<table border=\"1\" class=\"dataframe\">\n",
       "  <thead>\n",
       "    <tr style=\"text-align: right;\">\n",
       "      <th></th>\n",
       "      <th>DATE</th>\n",
       "      <th>DFEDTARU</th>\n",
       "      <th>DFEDTARL</th>\n",
       "      <th>IR_FORCAST</th>\n",
       "      <th>GDPGR</th>\n",
       "      <th>UNRATE</th>\n",
       "      <th>PCEPI</th>\n",
       "      <th>TNX</th>\n",
       "      <th>USD</th>\n",
       "      <th>KR_IR</th>\n",
       "      <th>ECB_IR</th>\n",
       "      <th>BB_text</th>\n",
       "      <th>BB_neg</th>\n",
       "      <th>BB_neu</th>\n",
       "      <th>BB_pos</th>\n",
       "      <th>BB_sentiment</th>\n",
       "      <th>DATE_YM</th>\n",
       "    </tr>\n",
       "  </thead>\n",
       "  <tbody>\n",
       "    <tr>\n",
       "      <th>0</th>\n",
       "      <td>2008-12-01</td>\n",
       "      <td>0.25</td>\n",
       "      <td>0.00</td>\n",
       "      <td>0.50</td>\n",
       "      <td>-8.5</td>\n",
       "      <td>7.3</td>\n",
       "      <td>88.098</td>\n",
       "      <td>2.244</td>\n",
       "      <td>1259.5</td>\n",
       "      <td>3.0</td>\n",
       "      <td>2.50</td>\n",
       "      <td>Prepared at the Federal Reserve Bank of Minnea...</td>\n",
       "      <td>0.080</td>\n",
       "      <td>0.839</td>\n",
       "      <td>0.082</td>\n",
       "      <td>0.9133</td>\n",
       "      <td>2008-12</td>\n",
       "    </tr>\n",
       "    <tr>\n",
       "      <th>1</th>\n",
       "      <td>2009-01-01</td>\n",
       "      <td>0.25</td>\n",
       "      <td>0.00</td>\n",
       "      <td>0.25</td>\n",
       "      <td>-4.5</td>\n",
       "      <td>7.8</td>\n",
       "      <td>88.108</td>\n",
       "      <td>2.844</td>\n",
       "      <td>1379.5</td>\n",
       "      <td>2.5</td>\n",
       "      <td>2.00</td>\n",
       "      <td>Prepared at the Federal Reserve Bank of St. Lo...</td>\n",
       "      <td>0.061</td>\n",
       "      <td>0.865</td>\n",
       "      <td>0.074</td>\n",
       "      <td>0.9952</td>\n",
       "      <td>2009-01</td>\n",
       "    </tr>\n",
       "    <tr>\n",
       "      <th>2</th>\n",
       "      <td>2009-02-01</td>\n",
       "      <td>0.25</td>\n",
       "      <td>0.00</td>\n",
       "      <td>0.25</td>\n",
       "      <td>-4.5</td>\n",
       "      <td>8.3</td>\n",
       "      <td>88.266</td>\n",
       "      <td>3.041</td>\n",
       "      <td>1534.0</td>\n",
       "      <td>2.0</td>\n",
       "      <td>2.00</td>\n",
       "      <td>Prepared at the Federal Reserve Bank of St. Lo...</td>\n",
       "      <td>0.061</td>\n",
       "      <td>0.865</td>\n",
       "      <td>0.074</td>\n",
       "      <td>0.9952</td>\n",
       "      <td>2009-02</td>\n",
       "    </tr>\n",
       "    <tr>\n",
       "      <th>3</th>\n",
       "      <td>2009-03-01</td>\n",
       "      <td>0.25</td>\n",
       "      <td>0.00</td>\n",
       "      <td>0.25</td>\n",
       "      <td>-4.5</td>\n",
       "      <td>8.7</td>\n",
       "      <td>88.169</td>\n",
       "      <td>2.685</td>\n",
       "      <td>1383.5</td>\n",
       "      <td>2.0</td>\n",
       "      <td>1.50</td>\n",
       "      <td>Prepared at the Federal Reserve Bank of San Fr...</td>\n",
       "      <td>0.083</td>\n",
       "      <td>0.839</td>\n",
       "      <td>0.078</td>\n",
       "      <td>0.5459</td>\n",
       "      <td>2009-03</td>\n",
       "    </tr>\n",
       "    <tr>\n",
       "      <th>4</th>\n",
       "      <td>2009-04-01</td>\n",
       "      <td>0.25</td>\n",
       "      <td>0.00</td>\n",
       "      <td>0.25</td>\n",
       "      <td>-0.7</td>\n",
       "      <td>9.0</td>\n",
       "      <td>88.295</td>\n",
       "      <td>3.124</td>\n",
       "      <td>1282.0</td>\n",
       "      <td>2.0</td>\n",
       "      <td>1.25</td>\n",
       "      <td>Prepared at the Federal Reserve Bank of Dallas...</td>\n",
       "      <td>0.092</td>\n",
       "      <td>0.826</td>\n",
       "      <td>0.082</td>\n",
       "      <td>-0.6999</td>\n",
       "      <td>2009-04</td>\n",
       "    </tr>\n",
       "    <tr>\n",
       "      <th>...</th>\n",
       "      <td>...</td>\n",
       "      <td>...</td>\n",
       "      <td>...</td>\n",
       "      <td>...</td>\n",
       "      <td>...</td>\n",
       "      <td>...</td>\n",
       "      <td>...</td>\n",
       "      <td>...</td>\n",
       "      <td>...</td>\n",
       "      <td>...</td>\n",
       "      <td>...</td>\n",
       "      <td>...</td>\n",
       "      <td>...</td>\n",
       "      <td>...</td>\n",
       "      <td>...</td>\n",
       "      <td>...</td>\n",
       "      <td>...</td>\n",
       "    </tr>\n",
       "    <tr>\n",
       "      <th>183</th>\n",
       "      <td>2024-03-01</td>\n",
       "      <td>5.50</td>\n",
       "      <td>5.25</td>\n",
       "      <td>5.50</td>\n",
       "      <td>1.4</td>\n",
       "      <td>3.8</td>\n",
       "      <td>122.782</td>\n",
       "      <td>4.206</td>\n",
       "      <td>1347.2</td>\n",
       "      <td>3.5</td>\n",
       "      <td>4.50</td>\n",
       "      <td>National Summary Overall Economic Activity Eco...</td>\n",
       "      <td>0.056</td>\n",
       "      <td>0.797</td>\n",
       "      <td>0.147</td>\n",
       "      <td>0.9991</td>\n",
       "      <td>2024-03</td>\n",
       "    </tr>\n",
       "    <tr>\n",
       "      <th>184</th>\n",
       "      <td>2024-04-01</td>\n",
       "      <td>5.50</td>\n",
       "      <td>5.25</td>\n",
       "      <td>5.50</td>\n",
       "      <td>2.8</td>\n",
       "      <td>3.9</td>\n",
       "      <td>123.109</td>\n",
       "      <td>4.686</td>\n",
       "      <td>1382.0</td>\n",
       "      <td>3.5</td>\n",
       "      <td>4.50</td>\n",
       "      <td>National Summary Overall Economic Activity Ove...</td>\n",
       "      <td>0.068</td>\n",
       "      <td>0.807</td>\n",
       "      <td>0.126</td>\n",
       "      <td>0.9974</td>\n",
       "      <td>2024-04</td>\n",
       "    </tr>\n",
       "    <tr>\n",
       "      <th>185</th>\n",
       "      <td>2024-05-01</td>\n",
       "      <td>5.50</td>\n",
       "      <td>5.25</td>\n",
       "      <td>5.50</td>\n",
       "      <td>2.8</td>\n",
       "      <td>4.0</td>\n",
       "      <td>123.146</td>\n",
       "      <td>4.514</td>\n",
       "      <td>1384.5</td>\n",
       "      <td>3.5</td>\n",
       "      <td>4.50</td>\n",
       "      <td>National Summary Overall Economic Activity Nat...</td>\n",
       "      <td>0.076</td>\n",
       "      <td>0.783</td>\n",
       "      <td>0.141</td>\n",
       "      <td>0.9982</td>\n",
       "      <td>2024-05</td>\n",
       "    </tr>\n",
       "    <tr>\n",
       "      <th>186</th>\n",
       "      <td>2024-06-01</td>\n",
       "      <td>5.50</td>\n",
       "      <td>5.25</td>\n",
       "      <td>5.50</td>\n",
       "      <td>2.8</td>\n",
       "      <td>4.1</td>\n",
       "      <td>123.243</td>\n",
       "      <td>4.343</td>\n",
       "      <td>1376.7</td>\n",
       "      <td>3.5</td>\n",
       "      <td>4.25</td>\n",
       "      <td>National Summary Overall Economic Activity Nat...</td>\n",
       "      <td>0.076</td>\n",
       "      <td>0.783</td>\n",
       "      <td>0.141</td>\n",
       "      <td>0.9982</td>\n",
       "      <td>2024-06</td>\n",
       "    </tr>\n",
       "    <tr>\n",
       "      <th>187</th>\n",
       "      <td>2024-07-01</td>\n",
       "      <td>5.50</td>\n",
       "      <td>5.25</td>\n",
       "      <td>5.50</td>\n",
       "      <td>2.8</td>\n",
       "      <td>4.1</td>\n",
       "      <td>123.243</td>\n",
       "      <td>4.143</td>\n",
       "      <td>1385.3</td>\n",
       "      <td>3.5</td>\n",
       "      <td>4.25</td>\n",
       "      <td>National Summary Overall Economic Activity Eco...</td>\n",
       "      <td>0.051</td>\n",
       "      <td>0.796</td>\n",
       "      <td>0.153</td>\n",
       "      <td>0.9992</td>\n",
       "      <td>2024-07</td>\n",
       "    </tr>\n",
       "  </tbody>\n",
       "</table>\n",
       "<p>188 rows × 17 columns</p>\n",
       "</div>"
      ],
      "text/plain": [
       "           DATE  DFEDTARU  DFEDTARL  IR_FORCAST  GDPGR  UNRATE    PCEPI  \\\n",
       "0    2008-12-01      0.25      0.00        0.50   -8.5     7.3   88.098   \n",
       "1    2009-01-01      0.25      0.00        0.25   -4.5     7.8   88.108   \n",
       "2    2009-02-01      0.25      0.00        0.25   -4.5     8.3   88.266   \n",
       "3    2009-03-01      0.25      0.00        0.25   -4.5     8.7   88.169   \n",
       "4    2009-04-01      0.25      0.00        0.25   -0.7     9.0   88.295   \n",
       "..          ...       ...       ...         ...    ...     ...      ...   \n",
       "183  2024-03-01      5.50      5.25        5.50    1.4     3.8  122.782   \n",
       "184  2024-04-01      5.50      5.25        5.50    2.8     3.9  123.109   \n",
       "185  2024-05-01      5.50      5.25        5.50    2.8     4.0  123.146   \n",
       "186  2024-06-01      5.50      5.25        5.50    2.8     4.1  123.243   \n",
       "187  2024-07-01      5.50      5.25        5.50    2.8     4.1  123.243   \n",
       "\n",
       "       TNX     USD  KR_IR  ECB_IR  \\\n",
       "0    2.244  1259.5    3.0    2.50   \n",
       "1    2.844  1379.5    2.5    2.00   \n",
       "2    3.041  1534.0    2.0    2.00   \n",
       "3    2.685  1383.5    2.0    1.50   \n",
       "4    3.124  1282.0    2.0    1.25   \n",
       "..     ...     ...    ...     ...   \n",
       "183  4.206  1347.2    3.5    4.50   \n",
       "184  4.686  1382.0    3.5    4.50   \n",
       "185  4.514  1384.5    3.5    4.50   \n",
       "186  4.343  1376.7    3.5    4.25   \n",
       "187  4.143  1385.3    3.5    4.25   \n",
       "\n",
       "                                               BB_text  BB_neg  BB_neu  \\\n",
       "0    Prepared at the Federal Reserve Bank of Minnea...   0.080   0.839   \n",
       "1    Prepared at the Federal Reserve Bank of St. Lo...   0.061   0.865   \n",
       "2    Prepared at the Federal Reserve Bank of St. Lo...   0.061   0.865   \n",
       "3    Prepared at the Federal Reserve Bank of San Fr...   0.083   0.839   \n",
       "4    Prepared at the Federal Reserve Bank of Dallas...   0.092   0.826   \n",
       "..                                                 ...     ...     ...   \n",
       "183  National Summary Overall Economic Activity Eco...   0.056   0.797   \n",
       "184  National Summary Overall Economic Activity Ove...   0.068   0.807   \n",
       "185  National Summary Overall Economic Activity Nat...   0.076   0.783   \n",
       "186  National Summary Overall Economic Activity Nat...   0.076   0.783   \n",
       "187  National Summary Overall Economic Activity Eco...   0.051   0.796   \n",
       "\n",
       "     BB_pos  BB_sentiment  DATE_YM  \n",
       "0     0.082        0.9133  2008-12  \n",
       "1     0.074        0.9952  2009-01  \n",
       "2     0.074        0.9952  2009-02  \n",
       "3     0.078        0.5459  2009-03  \n",
       "4     0.082       -0.6999  2009-04  \n",
       "..      ...           ...      ...  \n",
       "183   0.147        0.9991  2024-03  \n",
       "184   0.126        0.9974  2024-04  \n",
       "185   0.141        0.9982  2024-05  \n",
       "186   0.141        0.9982  2024-06  \n",
       "187   0.153        0.9992  2024-07  \n",
       "\n",
       "[188 rows x 17 columns]"
      ]
     },
     "execution_count": 34,
     "metadata": {},
     "output_type": "execute_result"
    }
   ],
   "source": [
    "## 데이터 로드\n",
    "\n",
    "data = pd.read_csv('./../../Fed1_dataset/Interest_rate_prediction.csv')\n",
    "df = data.copy()\n",
    "\n",
    "df"
   ]
  },
  {
   "cell_type": "code",
   "execution_count": 36,
   "id": "ff61359b",
   "metadata": {},
   "outputs": [],
   "source": [
    "## 추가 전처리: BB_text 텍스트 데이터 전 처리 및 sentiment 재계산\n",
    "\n",
    "# BB_text 텍스트 데이터 전 처리\n",
    "# 소문자 통일, 공백 제거\n",
    "df['BB_text'] = df['BB_text'].str.lower()  # 소문자로\n",
    "df['BB_text'] = df['BB_text'].str.strip()  # 앞뒤 공백 제거\n",
    "df['BB_text'] = df['BB_text'].str.replace('\\s+', ' ', regex=True)  # 중간 공백 제거\n",
    "df['BB_text'] = df['BB_text'].apply(lambda x: re.sub(r'[^a-zA-Z0-9\\s]', '', x))\n",
    "\n",
    "# 불용어 제거\n",
    "stop_words = set(stopwords.words('english'))\n",
    "def remove_stopwords(text):\n",
    "    return ' '.join([word for word in text.split() if word not in stop_words])\n",
    "df['BB_text'] = df['BB_text'].apply(remove_stopwords)\n",
    "\n",
    "\n",
    "# sentiment 재계산\n",
    "# 감성분석\n",
    "sia = SentimentIntensityAnalyzer()\n",
    "\n",
    "def get_vader_sentiment(text):\n",
    "    sentiment = sia.polarity_scores(text)\n",
    "    return sentiment['neg'], sentiment['neu'], sentiment['pos'], sentiment['compound']\n",
    "\n",
    "df[['BB_neg', 'BB_neu', 'BB_pos', 'BB_sentiment']] = df['BB_text'].apply(lambda text: pd.Series(get_vader_sentiment(text)))"
   ]
  },
  {
   "cell_type": "code",
   "execution_count": 37,
   "id": "02029cfe",
   "metadata": {},
   "outputs": [
    {
     "data": {
      "text/html": [
       "<div>\n",
       "<style scoped>\n",
       "    .dataframe tbody tr th:only-of-type {\n",
       "        vertical-align: middle;\n",
       "    }\n",
       "\n",
       "    .dataframe tbody tr th {\n",
       "        vertical-align: top;\n",
       "    }\n",
       "\n",
       "    .dataframe thead th {\n",
       "        text-align: right;\n",
       "    }\n",
       "</style>\n",
       "<table border=\"1\" class=\"dataframe\">\n",
       "  <thead>\n",
       "    <tr style=\"text-align: right;\">\n",
       "      <th></th>\n",
       "      <th>GDPGR</th>\n",
       "      <th>UNRATE</th>\n",
       "      <th>PCEPI</th>\n",
       "      <th>TNX</th>\n",
       "      <th>USD</th>\n",
       "      <th>KR_IR</th>\n",
       "      <th>ECB_IR</th>\n",
       "      <th>BB_sentiment</th>\n",
       "      <th>TARGET</th>\n",
       "    </tr>\n",
       "    <tr>\n",
       "      <th>DATE</th>\n",
       "      <th></th>\n",
       "      <th></th>\n",
       "      <th></th>\n",
       "      <th></th>\n",
       "      <th></th>\n",
       "      <th></th>\n",
       "      <th></th>\n",
       "      <th></th>\n",
       "      <th></th>\n",
       "    </tr>\n",
       "  </thead>\n",
       "  <tbody>\n",
       "    <tr>\n",
       "      <th>2008-12-01</th>\n",
       "      <td>-8.5</td>\n",
       "      <td>7.3</td>\n",
       "      <td>88.098</td>\n",
       "      <td>2.244</td>\n",
       "      <td>1259.5</td>\n",
       "      <td>3.0</td>\n",
       "      <td>2.50</td>\n",
       "      <td>0.4964</td>\n",
       "      <td>0.25</td>\n",
       "    </tr>\n",
       "    <tr>\n",
       "      <th>2009-01-01</th>\n",
       "      <td>-4.5</td>\n",
       "      <td>7.8</td>\n",
       "      <td>88.108</td>\n",
       "      <td>2.844</td>\n",
       "      <td>1379.5</td>\n",
       "      <td>2.5</td>\n",
       "      <td>2.00</td>\n",
       "      <td>0.9672</td>\n",
       "      <td>0.25</td>\n",
       "    </tr>\n",
       "    <tr>\n",
       "      <th>2009-02-01</th>\n",
       "      <td>-4.5</td>\n",
       "      <td>8.3</td>\n",
       "      <td>88.266</td>\n",
       "      <td>3.041</td>\n",
       "      <td>1534.0</td>\n",
       "      <td>2.0</td>\n",
       "      <td>2.00</td>\n",
       "      <td>0.9672</td>\n",
       "      <td>0.25</td>\n",
       "    </tr>\n",
       "    <tr>\n",
       "      <th>2009-03-01</th>\n",
       "      <td>-4.5</td>\n",
       "      <td>8.7</td>\n",
       "      <td>88.169</td>\n",
       "      <td>2.685</td>\n",
       "      <td>1383.5</td>\n",
       "      <td>2.0</td>\n",
       "      <td>1.50</td>\n",
       "      <td>-0.0337</td>\n",
       "      <td>0.25</td>\n",
       "    </tr>\n",
       "    <tr>\n",
       "      <th>2009-04-01</th>\n",
       "      <td>-0.7</td>\n",
       "      <td>9.0</td>\n",
       "      <td>88.295</td>\n",
       "      <td>3.124</td>\n",
       "      <td>1282.0</td>\n",
       "      <td>2.0</td>\n",
       "      <td>1.25</td>\n",
       "      <td>-0.8687</td>\n",
       "      <td>0.25</td>\n",
       "    </tr>\n",
       "    <tr>\n",
       "      <th>...</th>\n",
       "      <td>...</td>\n",
       "      <td>...</td>\n",
       "      <td>...</td>\n",
       "      <td>...</td>\n",
       "      <td>...</td>\n",
       "      <td>...</td>\n",
       "      <td>...</td>\n",
       "      <td>...</td>\n",
       "      <td>...</td>\n",
       "    </tr>\n",
       "    <tr>\n",
       "      <th>2024-03-01</th>\n",
       "      <td>1.4</td>\n",
       "      <td>3.8</td>\n",
       "      <td>122.782</td>\n",
       "      <td>4.206</td>\n",
       "      <td>1347.2</td>\n",
       "      <td>3.5</td>\n",
       "      <td>4.50</td>\n",
       "      <td>0.9977</td>\n",
       "      <td>5.50</td>\n",
       "    </tr>\n",
       "    <tr>\n",
       "      <th>2024-04-01</th>\n",
       "      <td>2.8</td>\n",
       "      <td>3.9</td>\n",
       "      <td>123.109</td>\n",
       "      <td>4.686</td>\n",
       "      <td>1382.0</td>\n",
       "      <td>3.5</td>\n",
       "      <td>4.50</td>\n",
       "      <td>0.9952</td>\n",
       "      <td>5.50</td>\n",
       "    </tr>\n",
       "    <tr>\n",
       "      <th>2024-05-01</th>\n",
       "      <td>2.8</td>\n",
       "      <td>4.0</td>\n",
       "      <td>123.146</td>\n",
       "      <td>4.514</td>\n",
       "      <td>1384.5</td>\n",
       "      <td>3.5</td>\n",
       "      <td>4.50</td>\n",
       "      <td>0.9974</td>\n",
       "      <td>5.50</td>\n",
       "    </tr>\n",
       "    <tr>\n",
       "      <th>2024-06-01</th>\n",
       "      <td>2.8</td>\n",
       "      <td>4.1</td>\n",
       "      <td>123.243</td>\n",
       "      <td>4.343</td>\n",
       "      <td>1376.7</td>\n",
       "      <td>3.5</td>\n",
       "      <td>4.25</td>\n",
       "      <td>0.9974</td>\n",
       "      <td>5.50</td>\n",
       "    </tr>\n",
       "    <tr>\n",
       "      <th>2024-07-01</th>\n",
       "      <td>2.8</td>\n",
       "      <td>4.1</td>\n",
       "      <td>123.243</td>\n",
       "      <td>4.143</td>\n",
       "      <td>1385.3</td>\n",
       "      <td>3.5</td>\n",
       "      <td>4.25</td>\n",
       "      <td>0.9983</td>\n",
       "      <td>5.50</td>\n",
       "    </tr>\n",
       "  </tbody>\n",
       "</table>\n",
       "<p>188 rows × 9 columns</p>\n",
       "</div>"
      ],
      "text/plain": [
       "            GDPGR  UNRATE    PCEPI    TNX     USD  KR_IR  ECB_IR  \\\n",
       "DATE                                                               \n",
       "2008-12-01   -8.5     7.3   88.098  2.244  1259.5    3.0    2.50   \n",
       "2009-01-01   -4.5     7.8   88.108  2.844  1379.5    2.5    2.00   \n",
       "2009-02-01   -4.5     8.3   88.266  3.041  1534.0    2.0    2.00   \n",
       "2009-03-01   -4.5     8.7   88.169  2.685  1383.5    2.0    1.50   \n",
       "2009-04-01   -0.7     9.0   88.295  3.124  1282.0    2.0    1.25   \n",
       "...           ...     ...      ...    ...     ...    ...     ...   \n",
       "2024-03-01    1.4     3.8  122.782  4.206  1347.2    3.5    4.50   \n",
       "2024-04-01    2.8     3.9  123.109  4.686  1382.0    3.5    4.50   \n",
       "2024-05-01    2.8     4.0  123.146  4.514  1384.5    3.5    4.50   \n",
       "2024-06-01    2.8     4.1  123.243  4.343  1376.7    3.5    4.25   \n",
       "2024-07-01    2.8     4.1  123.243  4.143  1385.3    3.5    4.25   \n",
       "\n",
       "            BB_sentiment  TARGET  \n",
       "DATE                              \n",
       "2008-12-01        0.4964    0.25  \n",
       "2009-01-01        0.9672    0.25  \n",
       "2009-02-01        0.9672    0.25  \n",
       "2009-03-01       -0.0337    0.25  \n",
       "2009-04-01       -0.8687    0.25  \n",
       "...                  ...     ...  \n",
       "2024-03-01        0.9977    5.50  \n",
       "2024-04-01        0.9952    5.50  \n",
       "2024-05-01        0.9974    5.50  \n",
       "2024-06-01        0.9974    5.50  \n",
       "2024-07-01        0.9983    5.50  \n",
       "\n",
       "[188 rows x 9 columns]"
      ]
     },
     "execution_count": 37,
     "metadata": {},
     "output_type": "execute_result"
    }
   ],
   "source": [
    "# target: 상한 기준금리 # EDA와는 다른 점: 상관계수가 높은 IR_FORCAST 삭제\n",
    "df['TARGET'] = df['DFEDTARU']\n",
    "del df['IR_FORCAST'], df['DFEDTARL'],df['DFEDTARU'], df['BB_text'], df['BB_neg'], df['BB_neu'], df['BB_pos'], df['DATE_YM']\n",
    "df['DATE'] = pd.to_datetime(df['DATE'])\n",
    "\n",
    "df.set_index('DATE', inplace=True)\n",
    "df"
   ]
  },
  {
   "cell_type": "code",
   "execution_count": 38,
   "id": "2339d21b",
   "metadata": {},
   "outputs": [
    {
     "data": {
      "image/png": "[encoded data removed]",
      "text/plain": [
       "<Figure size 1000x800 with 2 Axes>"
      ]
     },
     "metadata": {},
     "output_type": "display_data"
    }
   ],
   "source": [
    "# 데이터프레임에서 상관 행렬 계산\n",
    "correlation_matrix = df.corr()\n",
    "\n",
    "# TARGET과 다른 변수 간의 상관계수 시각화\n",
    "plt.figure(figsize=(10, 8))\n",
    "sns.heatmap(correlation_matrix[['TARGET']], annot=True, cmap='coolwarm', vmin=-1, vmax=1)\n",
    "plt.title('Correlation with TARGET')\n",
    "plt.show()\n"
   ]
  },
  {
   "cell_type": "code",
   "execution_count": 39,
   "id": "feb3bf7a",
   "metadata": {},
   "outputs": [
    {
     "data": {
      "image/png": "[encoded data removed]",
      "text/plain": [
       "<Figure size 1000x800 with 2 Axes>"
      ]
     },
     "metadata": {},
     "output_type": "display_data"
    },
    {
     "name": "stdout",
     "output_type": "stream",
     "text": [
      "                TARGET\n",
      "TARGET        1.000000\n",
      "PCEPI         0.801811\n",
      "ECB_IR        0.754735\n",
      "TNX           0.626846\n",
      "USD           0.614436\n",
      "UNRATE        0.582253\n",
      "KR_IR         0.455051\n",
      "BB_sentiment  0.116546\n",
      "GDPGR         0.029379\n"
     ]
    }
   ],
   "source": [
    "# 상관계수 절댓값 기준 내림차순\n",
    "# 상관 행렬 계산\n",
    "correlation_matrix = df.corr()\n",
    "\n",
    "# TARGET과의 상관계수 가져오기\n",
    "target_corr = correlation_matrix[['TARGET']]\n",
    "\n",
    "# 상관계수를 절댓값 기준으로 정렬\n",
    "sorted_target_corr = target_corr.abs().sort_values(by='TARGET', ascending=False)\n",
    "\n",
    "# 정렬된 상관계수 시각화\n",
    "plt.figure(figsize=(10, 8))\n",
    "sns.heatmap(sorted_target_corr, annot=True, cmap='coolwarm', vmin=-1, vmax=1, center=0)\n",
    "plt.title('Correlation with TARGET (Sorted by Absolute Value)')\n",
    "plt.show()\n",
    "\n",
    "# 정렬된 상관계수 출력\n",
    "print(sorted_target_corr)"
   ]
  },
  {
   "cell_type": "raw",
   "id": "bb8abce9",
   "metadata": {},
   "source": [
    "PCEPI         0.801811\n",
    "ECB_IR        0.754735\n",
    "TNX           0.626846\n",
    "USD           0.614436\n",
    "UNRATE        0.582253\n",
    "KR_IR         0.455051"
   ]
  },
  {
   "cell_type": "code",
   "execution_count": 43,
   "id": "21650254",
   "metadata": {},
   "outputs": [
    {
     "data": {
      "text/html": [
       "<div>\n",
       "<style scoped>\n",
       "    .dataframe tbody tr th:only-of-type {\n",
       "        vertical-align: middle;\n",
       "    }\n",
       "\n",
       "    .dataframe tbody tr th {\n",
       "        vertical-align: top;\n",
       "    }\n",
       "\n",
       "    .dataframe thead th {\n",
       "        text-align: right;\n",
       "    }\n",
       "</style>\n",
       "<table border=\"1\" class=\"dataframe\">\n",
       "  <thead>\n",
       "    <tr style=\"text-align: right;\">\n",
       "      <th></th>\n",
       "      <th>UNRATE</th>\n",
       "      <th>PCEPI</th>\n",
       "      <th>TNX</th>\n",
       "      <th>USD</th>\n",
       "      <th>KR_IR</th>\n",
       "      <th>ECB_IR</th>\n",
       "      <th>TARGET</th>\n",
       "    </tr>\n",
       "    <tr>\n",
       "      <th>DATE</th>\n",
       "      <th></th>\n",
       "      <th></th>\n",
       "      <th></th>\n",
       "      <th></th>\n",
       "      <th></th>\n",
       "      <th></th>\n",
       "      <th></th>\n",
       "    </tr>\n",
       "  </thead>\n",
       "  <tbody>\n",
       "    <tr>\n",
       "      <th>2008-12-01</th>\n",
       "      <td>7.3</td>\n",
       "      <td>88.098</td>\n",
       "      <td>2.244</td>\n",
       "      <td>1259.5</td>\n",
       "      <td>3.0</td>\n",
       "      <td>2.50</td>\n",
       "      <td>0.25</td>\n",
       "    </tr>\n",
       "    <tr>\n",
       "      <th>2009-01-01</th>\n",
       "      <td>7.8</td>\n",
       "      <td>88.108</td>\n",
       "      <td>2.844</td>\n",
       "      <td>1379.5</td>\n",
       "      <td>2.5</td>\n",
       "      <td>2.00</td>\n",
       "      <td>0.25</td>\n",
       "    </tr>\n",
       "    <tr>\n",
       "      <th>2009-02-01</th>\n",
       "      <td>8.3</td>\n",
       "      <td>88.266</td>\n",
       "      <td>3.041</td>\n",
       "      <td>1534.0</td>\n",
       "      <td>2.0</td>\n",
       "      <td>2.00</td>\n",
       "      <td>0.25</td>\n",
       "    </tr>\n",
       "    <tr>\n",
       "      <th>2009-03-01</th>\n",
       "      <td>8.7</td>\n",
       "      <td>88.169</td>\n",
       "      <td>2.685</td>\n",
       "      <td>1383.5</td>\n",
       "      <td>2.0</td>\n",
       "      <td>1.50</td>\n",
       "      <td>0.25</td>\n",
       "    </tr>\n",
       "    <tr>\n",
       "      <th>2009-04-01</th>\n",
       "      <td>9.0</td>\n",
       "      <td>88.295</td>\n",
       "      <td>3.124</td>\n",
       "      <td>1282.0</td>\n",
       "      <td>2.0</td>\n",
       "      <td>1.25</td>\n",
       "      <td>0.25</td>\n",
       "    </tr>\n",
       "    <tr>\n",
       "      <th>...</th>\n",
       "      <td>...</td>\n",
       "      <td>...</td>\n",
       "      <td>...</td>\n",
       "      <td>...</td>\n",
       "      <td>...</td>\n",
       "      <td>...</td>\n",
       "      <td>...</td>\n",
       "    </tr>\n",
       "    <tr>\n",
       "      <th>2024-03-01</th>\n",
       "      <td>3.8</td>\n",
       "      <td>122.782</td>\n",
       "      <td>4.206</td>\n",
       "      <td>1347.2</td>\n",
       "      <td>3.5</td>\n",
       "      <td>4.50</td>\n",
       "      <td>5.50</td>\n",
       "    </tr>\n",
       "    <tr>\n",
       "      <th>2024-04-01</th>\n",
       "      <td>3.9</td>\n",
       "      <td>123.109</td>\n",
       "      <td>4.686</td>\n",
       "      <td>1382.0</td>\n",
       "      <td>3.5</td>\n",
       "      <td>4.50</td>\n",
       "      <td>5.50</td>\n",
       "    </tr>\n",
       "    <tr>\n",
       "      <th>2024-05-01</th>\n",
       "      <td>4.0</td>\n",
       "      <td>123.146</td>\n",
       "      <td>4.514</td>\n",
       "      <td>1384.5</td>\n",
       "      <td>3.5</td>\n",
       "      <td>4.50</td>\n",
       "      <td>5.50</td>\n",
       "    </tr>\n",
       "    <tr>\n",
       "      <th>2024-06-01</th>\n",
       "      <td>4.1</td>\n",
       "      <td>123.243</td>\n",
       "      <td>4.343</td>\n",
       "      <td>1376.7</td>\n",
       "      <td>3.5</td>\n",
       "      <td>4.25</td>\n",
       "      <td>5.50</td>\n",
       "    </tr>\n",
       "    <tr>\n",
       "      <th>2024-07-01</th>\n",
       "      <td>4.1</td>\n",
       "      <td>123.243</td>\n",
       "      <td>4.143</td>\n",
       "      <td>1385.3</td>\n",
       "      <td>3.5</td>\n",
       "      <td>4.25</td>\n",
       "      <td>5.50</td>\n",
       "    </tr>\n",
       "  </tbody>\n",
       "</table>\n",
       "<p>188 rows × 7 columns</p>\n",
       "</div>"
      ],
      "text/plain": [
       "            UNRATE    PCEPI    TNX     USD  KR_IR  ECB_IR  TARGET\n",
       "DATE                                                             \n",
       "2008-12-01     7.3   88.098  2.244  1259.5    3.0    2.50    0.25\n",
       "2009-01-01     7.8   88.108  2.844  1379.5    2.5    2.00    0.25\n",
       "2009-02-01     8.3   88.266  3.041  1534.0    2.0    2.00    0.25\n",
       "2009-03-01     8.7   88.169  2.685  1383.5    2.0    1.50    0.25\n",
       "2009-04-01     9.0   88.295  3.124  1282.0    2.0    1.25    0.25\n",
       "...            ...      ...    ...     ...    ...     ...     ...\n",
       "2024-03-01     3.8  122.782  4.206  1347.2    3.5    4.50    5.50\n",
       "2024-04-01     3.9  123.109  4.686  1382.0    3.5    4.50    5.50\n",
       "2024-05-01     4.0  123.146  4.514  1384.5    3.5    4.50    5.50\n",
       "2024-06-01     4.1  123.243  4.343  1376.7    3.5    4.25    5.50\n",
       "2024-07-01     4.1  123.243  4.143  1385.3    3.5    4.25    5.50\n",
       "\n",
       "[188 rows x 7 columns]"
      ]
     },
     "execution_count": 43,
     "metadata": {},
     "output_type": "execute_result"
    }
   ],
   "source": [
    "## 데이터 추가 전처리: 상관계수가 낮은 변수 BB_sentiment, GDPGR 삭제\n",
    "del df['BB_sentiment'], df['GDPGR']\n",
    "\n",
    "df"
   ]
  },
  {
   "cell_type": "code",
   "execution_count": 46,
   "id": "b5ae6cf8",
   "metadata": {},
   "outputs": [],
   "source": [
    "# 1. 데이터 전처리\n",
    "# 독립 변수와 타겟 변수 분리\n",
    "features = df.drop(columns='TARGET')\n",
    "target = df['TARGET']\n",
    "\n",
    "# 데이터 정규화\n",
    "scaler_features = MinMaxScaler()\n",
    "scaler_target = MinMaxScaler()\n",
    "scaled_features = scaler_features.fit_transform(df.drop('TARGET', axis=1))\n",
    "scaled_target = scaler_target.fit_transform(df[['TARGET']])"
   ]
  },
  {
   "cell_type": "code",
   "execution_count": 48,
   "id": "6785f597",
   "metadata": {},
   "outputs": [
    {
     "name": "stdout",
     "output_type": "stream",
     "text": [
      "        Importance\n",
      "ECB_IR    2.684865\n",
      "PCEPI     1.940589\n",
      "TNX       1.338099\n",
      "USD       0.004722\n",
      "KR_IR    -0.055921\n",
      "UNRATE   -2.393696\n"
     ]
    }
   ],
   "source": [
    "# 모델 훈련\n",
    "model = LinearRegression()\n",
    "model.fit(scaled_features, target)\n",
    "\n",
    "# 회귀 계수\n",
    "importance = model.coef_\n",
    "feature_importance = pd.DataFrame(importance, index=features.columns, columns=['Importance'])\n",
    "feature_importance = feature_importance.sort_values(by='Importance', ascending=False)\n",
    "\n",
    "print(feature_importance)"
   ]
  },
  {
   "cell_type": "markdown",
   "id": "30e7e24e",
   "metadata": {},
   "source": [
    "# LSTM"
   ]
  },
  {
   "cell_type": "code",
   "execution_count": 51,
   "id": "e03c6dff",
   "metadata": {
    "scrolled": true
   },
   "outputs": [
    {
     "name": "stdout",
     "output_type": "stream",
     "text": [
      "Epoch 1/200\n",
      "4/4 [==============================] - 2s 147ms/step - loss: 0.0396 - acc: 0.5968 - val_loss: 0.3549 - val_acc: 0.4444\n",
      "Epoch 2/200\n",
      "4/4 [==============================] - 0s 12ms/step - loss: 0.0255 - acc: 0.5968 - val_loss: 0.2893 - val_acc: 0.4444\n",
      "Epoch 3/200\n",
      "4/4 [==============================] - 0s 12ms/step - loss: 0.0230 - acc: 0.5968 - val_loss: 0.2680 - val_acc: 0.4444\n",
      "Epoch 4/200\n",
      "4/4 [==============================] - 0s 11ms/step - loss: 0.0189 - acc: 0.5968 - val_loss: 0.2649 - val_acc: 0.4444\n",
      "Epoch 5/200\n",
      "4/4 [==============================] - 0s 11ms/step - loss: 0.0159 - acc: 0.5968 - val_loss: 0.2640 - val_acc: 0.4444\n",
      "Epoch 6/200\n",
      "4/4 [==============================] - 0s 12ms/step - loss: 0.0125 - acc: 0.5968 - val_loss: 0.2382 - val_acc: 0.4444\n",
      "Epoch 7/200\n",
      "4/4 [==============================] - 0s 12ms/step - loss: 0.0115 - acc: 0.5968 - val_loss: 0.2083 - val_acc: 0.4444\n",
      "Epoch 8/200\n",
      "4/4 [==============================] - 0s 12ms/step - loss: 0.0105 - acc: 0.5968 - val_loss: 0.1776 - val_acc: 0.4444\n",
      "Epoch 9/200\n",
      "4/4 [==============================] - 0s 11ms/step - loss: 0.0109 - acc: 0.5968 - val_loss: 0.1819 - val_acc: 0.4444\n",
      "Epoch 10/200\n",
      "4/4 [==============================] - 0s 11ms/step - loss: 0.0094 - acc: 0.5968 - val_loss: 0.1910 - val_acc: 0.4444\n",
      "Epoch 11/200\n",
      "4/4 [==============================] - 0s 11ms/step - loss: 0.0082 - acc: 0.5968 - val_loss: 0.1730 - val_acc: 0.4444\n",
      "Epoch 12/200\n",
      "4/4 [==============================] - 0s 11ms/step - loss: 0.0078 - acc: 0.5968 - val_loss: 0.1688 - val_acc: 0.4444\n",
      "Epoch 13/200\n",
      "4/4 [==============================] - 0s 11ms/step - loss: 0.0071 - acc: 0.5968 - val_loss: 0.1786 - val_acc: 0.4444\n",
      "Epoch 14/200\n",
      "4/4 [==============================] - 0s 11ms/step - loss: 0.0061 - acc: 0.5968 - val_loss: 0.1524 - val_acc: 0.4444\n",
      "Epoch 15/200\n",
      "4/4 [==============================] - 0s 11ms/step - loss: 0.0039 - acc: 0.5968 - val_loss: 0.1038 - val_acc: 0.4444\n",
      "Epoch 16/200\n",
      "4/4 [==============================] - 0s 18ms/step - loss: 0.0038 - acc: 0.5968 - val_loss: 0.1007 - val_acc: 0.4630\n",
      "Epoch 17/200\n",
      "4/4 [==============================] - 0s 18ms/step - loss: 0.0040 - acc: 0.5968 - val_loss: 0.0968 - val_acc: 0.5185\n",
      "Epoch 18/200\n",
      "4/4 [==============================] - 0s 17ms/step - loss: 0.0026 - acc: 0.5968 - val_loss: 0.0686 - val_acc: 0.6852\n",
      "Epoch 19/200\n",
      "4/4 [==============================] - 0s 11ms/step - loss: 0.0039 - acc: 0.5968 - val_loss: 0.0879 - val_acc: 0.5556\n",
      "Epoch 20/200\n",
      "4/4 [==============================] - 0s 12ms/step - loss: 0.0028 - acc: 0.5968 - val_loss: 0.0660 - val_acc: 0.6852\n",
      "Epoch 21/200\n",
      "4/4 [==============================] - 0s 11ms/step - loss: 0.0020 - acc: 0.5968 - val_loss: 0.0710 - val_acc: 0.6852\n",
      "Epoch 22/200\n",
      "4/4 [==============================] - 0s 11ms/step - loss: 0.0031 - acc: 0.5968 - val_loss: 0.0811 - val_acc: 0.5926\n",
      "Epoch 23/200\n",
      "4/4 [==============================] - 0s 11ms/step - loss: 0.0014 - acc: 0.5968 - val_loss: 0.0510 - val_acc: 0.6852\n",
      "Epoch 24/200\n",
      "4/4 [==============================] - 0s 11ms/step - loss: 0.0022 - acc: 0.5968 - val_loss: 0.0603 - val_acc: 0.6852\n",
      "Epoch 25/200\n",
      "4/4 [==============================] - 0s 11ms/step - loss: 0.0020 - acc: 0.5968 - val_loss: 0.0630 - val_acc: 0.6852\n",
      "Epoch 26/200\n",
      "4/4 [==============================] - 0s 11ms/step - loss: 0.0015 - acc: 0.5968 - val_loss: 0.0590 - val_acc: 0.6852\n",
      "Epoch 27/200\n",
      "4/4 [==============================] - 0s 11ms/step - loss: 0.0016 - acc: 0.5968 - val_loss: 0.0539 - val_acc: 0.6852\n",
      "Epoch 28/200\n",
      "4/4 [==============================] - 0s 11ms/step - loss: 0.0022 - acc: 0.5968 - val_loss: 0.0519 - val_acc: 0.6852\n",
      "Epoch 29/200\n",
      "4/4 [==============================] - 0s 11ms/step - loss: 0.0022 - acc: 0.5968 - val_loss: 0.0438 - val_acc: 0.6852\n",
      "Epoch 30/200\n",
      "4/4 [==============================] - 0s 11ms/step - loss: 0.0019 - acc: 0.5968 - val_loss: 0.0502 - val_acc: 0.6852\n",
      "Epoch 31/200\n",
      "4/4 [==============================] - 0s 11ms/step - loss: 0.0017 - acc: 0.5968 - val_loss: 0.0408 - val_acc: 0.6852\n",
      "Epoch 32/200\n",
      "4/4 [==============================] - 0s 11ms/step - loss: 0.0018 - acc: 0.5968 - val_loss: 0.0384 - val_acc: 0.6852\n",
      "Epoch 33/200\n",
      "4/4 [==============================] - 0s 11ms/step - loss: 0.0014 - acc: 0.5968 - val_loss: 0.0596 - val_acc: 0.6852\n",
      "Epoch 34/200\n",
      "4/4 [==============================] - 0s 11ms/step - loss: 0.0019 - acc: 0.5968 - val_loss: 0.0462 - val_acc: 0.6852\n",
      "Epoch 35/200\n",
      "4/4 [==============================] - 0s 11ms/step - loss: 0.0015 - acc: 0.5968 - val_loss: 0.0323 - val_acc: 0.6852\n",
      "Epoch 36/200\n",
      "4/4 [==============================] - 0s 11ms/step - loss: 0.0014 - acc: 0.5968 - val_loss: 0.0456 - val_acc: 0.6852\n",
      "Epoch 37/200\n",
      "4/4 [==============================] - 0s 11ms/step - loss: 0.0022 - acc: 0.5968 - val_loss: 0.0500 - val_acc: 0.6852\n",
      "Epoch 38/200\n",
      "4/4 [==============================] - 0s 11ms/step - loss: 0.0013 - acc: 0.5968 - val_loss: 0.0348 - val_acc: 0.6852\n",
      "Epoch 39/200\n",
      "4/4 [==============================] - 0s 11ms/step - loss: 0.0014 - acc: 0.5968 - val_loss: 0.0376 - val_acc: 0.6852\n",
      "Epoch 40/200\n",
      "4/4 [==============================] - 0s 11ms/step - loss: 0.0014 - acc: 0.5968 - val_loss: 0.0514 - val_acc: 0.6852\n",
      "Epoch 41/200\n",
      "4/4 [==============================] - 0s 11ms/step - loss: 0.0013 - acc: 0.5968 - val_loss: 0.0403 - val_acc: 0.6852\n",
      "Epoch 42/200\n",
      "4/4 [==============================] - 0s 11ms/step - loss: 0.0014 - acc: 0.5968 - val_loss: 0.0397 - val_acc: 0.6852\n",
      "Epoch 43/200\n",
      "4/4 [==============================] - 0s 11ms/step - loss: 9.3568e-04 - acc: 0.5968 - val_loss: 0.0487 - val_acc: 0.6852\n",
      "Epoch 44/200\n",
      "4/4 [==============================] - 0s 11ms/step - loss: 0.0013 - acc: 0.5968 - val_loss: 0.0476 - val_acc: 0.6852\n",
      "Epoch 45/200\n",
      "4/4 [==============================] - 0s 11ms/step - loss: 0.0010 - acc: 0.5968 - val_loss: 0.0368 - val_acc: 0.6852\n",
      "Epoch 46/200\n",
      "4/4 [==============================] - 0s 11ms/step - loss: 0.0011 - acc: 0.5968 - val_loss: 0.0382 - val_acc: 0.6852\n",
      "Epoch 47/200\n",
      "4/4 [==============================] - 0s 11ms/step - loss: 0.0011 - acc: 0.5968 - val_loss: 0.0463 - val_acc: 0.6852\n",
      "Epoch 48/200\n",
      "4/4 [==============================] - 0s 11ms/step - loss: 0.0013 - acc: 0.5968 - val_loss: 0.0417 - val_acc: 0.6852\n",
      "Epoch 49/200\n",
      "4/4 [==============================] - 0s 11ms/step - loss: 0.0013 - acc: 0.5968 - val_loss: 0.0312 - val_acc: 0.6852\n",
      "Epoch 50/200\n",
      "4/4 [==============================] - 0s 11ms/step - loss: 0.0015 - acc: 0.5968 - val_loss: 0.0470 - val_acc: 0.6852\n",
      "Epoch 51/200\n",
      "4/4 [==============================] - 0s 11ms/step - loss: 0.0013 - acc: 0.5968 - val_loss: 0.0474 - val_acc: 0.6852\n",
      "Epoch 52/200\n",
      "4/4 [==============================] - 0s 10ms/step - loss: 0.0010 - acc: 0.5968 - val_loss: 0.0321 - val_acc: 0.6852\n",
      "Epoch 53/200\n",
      "4/4 [==============================] - 0s 11ms/step - loss: 0.0012 - acc: 0.5968 - val_loss: 0.0369 - val_acc: 0.6852\n",
      "Epoch 54/200\n",
      "4/4 [==============================] - 0s 11ms/step - loss: 0.0014 - acc: 0.5968 - val_loss: 0.0530 - val_acc: 0.6852\n",
      "Epoch 55/200\n",
      "4/4 [==============================] - 0s 10ms/step - loss: 0.0015 - acc: 0.5968 - val_loss: 0.0416 - val_acc: 0.6852\n",
      "Epoch 56/200\n",
      "4/4 [==============================] - 0s 11ms/step - loss: 0.0016 - acc: 0.5968 - val_loss: 0.0355 - val_acc: 0.6852\n",
      "Epoch 57/200\n",
      "4/4 [==============================] - 0s 11ms/step - loss: 0.0015 - acc: 0.5968 - val_loss: 0.0455 - val_acc: 0.6852\n",
      "Epoch 58/200\n",
      "4/4 [==============================] - 0s 11ms/step - loss: 8.7275e-04 - acc: 0.5968 - val_loss: 0.0479 - val_acc: 0.6852\n",
      "Epoch 59/200\n",
      "4/4 [==============================] - 0s 11ms/step - loss: 0.0011 - acc: 0.5968 - val_loss: 0.0392 - val_acc: 0.6852\n",
      "Epoch 60/200\n",
      "4/4 [==============================] - 0s 11ms/step - loss: 0.0016 - acc: 0.5968 - val_loss: 0.0379 - val_acc: 0.6852\n",
      "Epoch 61/200\n",
      "4/4 [==============================] - 0s 11ms/step - loss: 0.0011 - acc: 0.5968 - val_loss: 0.0483 - val_acc: 0.6852\n",
      "Epoch 62/200\n",
      "4/4 [==============================] - 0s 11ms/step - loss: 0.0015 - acc: 0.5968 - val_loss: 0.0453 - val_acc: 0.6852\n",
      "Epoch 63/200\n",
      "4/4 [==============================] - 0s 11ms/step - loss: 0.0012 - acc: 0.5968 - val_loss: 0.0349 - val_acc: 0.6852\n",
      "Epoch 64/200\n",
      "4/4 [==============================] - 0s 11ms/step - loss: 0.0011 - acc: 0.5968 - val_loss: 0.0327 - val_acc: 0.6852\n"
     ]
    }
   ],
   "source": [
    "# 2. 모델 정의\n",
    "# 데이터 분리\n",
    "def create_sequences(data, target, seq_length):\n",
    "    X, y = [], []\n",
    "    for i in range(len(data) - seq_length):\n",
    "        X.append(data[i:i + seq_length])\n",
    "        y.append(target[i + seq_length])\n",
    "    return np.array(X), np.array(y)\n",
    "\n",
    "X, y = create_sequences(scaled_features, scaled_target, 10)\n",
    "\n",
    "X_train, X_val, y_train, y_val = train_test_split(X, y, test_size=0.3, shuffle=False, random_state=42)\n",
    "\n",
    "model = Sequential()\n",
    "model.add(LSTM(units=64, return_sequences=True))\n",
    "model.add(Dropout(0.5))\n",
    "model.add(LSTM(units=32))\n",
    "model.add(Dropout(0.5))\n",
    "model.add(Dense(50, activation='relu'))\n",
    "model.add(Dense(1))\n",
    "\n",
    "# 모델 컴파일\n",
    "model.compile(optimizer='adam', loss='mean_squared_error', metrics=['acc'])\n",
    "\n",
    "# 콜백 정의\n",
    "early_stopping = EarlyStopping(monitor='val_loss', patience=15, restore_best_weights=True)\n",
    "model_checkpoint = ModelCheckpoint('best_model.keras', monitor='val_acc', save_best_only=True)\n",
    "\n",
    "# 모델 학습\n",
    "history = model.fit(X_train, y_train, epochs=200, batch_size=32, validation_data=(X_val, y_val), callbacks=[early_stopping, model_checkpoint])\n",
    "\n"
   ]
  },
  {
   "cell_type": "code",
   "execution_count": 52,
   "id": "15a9e063",
   "metadata": {},
   "outputs": [
    {
     "name": "stdout",
     "output_type": "stream",
     "text": [
      "Model: \"sequential_1\"\n",
      "_________________________________________________________________\n",
      " Layer (type)                Output Shape              Param #   \n",
      "=================================================================\n",
      " lstm_2 (LSTM)               (None, 10, 64)            18176     \n",
      "                                                                 \n",
      " dropout_2 (Dropout)         (None, 10, 64)            0         \n",
      "                                                                 \n",
      " lstm_3 (LSTM)               (None, 32)                12416     \n",
      "                                                                 \n",
      " dropout_3 (Dropout)         (None, 32)                0         \n",
      "                                                                 \n",
      " dense_2 (Dense)             (None, 50)                1650      \n",
      "                                                                 \n",
      " dense_3 (Dense)             (None, 1)                 51        \n",
      "                                                                 \n",
      "=================================================================\n",
      "Total params: 32,293\n",
      "Trainable params: 32,293\n",
      "Non-trainable params: 0\n",
      "_________________________________________________________________\n"
     ]
    }
   ],
   "source": [
    "model.summary()"
   ]
  },
  {
   "cell_type": "code",
   "execution_count": 53,
   "id": "597452be",
   "metadata": {},
   "outputs": [
    {
     "data": {
      "text/plain": [
       "<matplotlib.legend.Legend at 0x1577f32c090>"
      ]
     },
     "execution_count": 53,
     "metadata": {},
     "output_type": "execute_result"
    },
    {
     "data": {
      "image/png": "[encoded data removed]",
      "text/plain": [
       "<Figure size 640x480 with 1 Axes>"
      ]
     },
     "metadata": {},
     "output_type": "display_data"
    }
   ],
   "source": [
    "# 학습 손실과 검증 손실 시각화\n",
    "\n",
    "# 손실 그래프\n",
    "plt.plot(history.history['loss'], label='Training Loss')\n",
    "plt.plot(history.history['val_loss'], label='Validation Loss')\n",
    "plt.xlabel('Epochs')\n",
    "plt.ylabel('Loss')\n",
    "plt.title('Training and Validation Loss')\n",
    "plt.legend()"
   ]
  },
  {
   "cell_type": "code",
   "execution_count": 54,
   "id": "7d16ba32",
   "metadata": {},
   "outputs": [
    {
     "name": "stdout",
     "output_type": "stream",
     "text": [
      "2/2 [==============================] - 0s 3ms/step\n"
     ]
    },
    {
     "data": {
      "image/png": "[encoded data removed]",
      "text/plain": [
       "<Figure size 1200x600 with 1 Axes>"
      ]
     },
     "metadata": {},
     "output_type": "display_data"
    }
   ],
   "source": [
    "# 검증 데이터에 대한 예측\n",
    "y_pred = model.predict(X_val)\n",
    "\n",
    "# 실제 값과 예측 값 시각화\n",
    "plt.figure(figsize=(12, 6))\n",
    "plt.plot(y_val, label='Actual TARGET',color='blue')\n",
    "plt.plot(y_pred, label='Predicted TARGET',color='red')\n",
    "plt.xlabel('Time')\n",
    "plt.ylabel('TARGET')\n",
    "plt.title('Actual vs Predicted TARGET')\n",
    "plt.legend()\n",
    "plt.show()\n"
   ]
  },
  {
   "cell_type": "code",
   "execution_count": 55,
   "id": "0478eb88",
   "metadata": {},
   "outputs": [
    {
     "data": {
      "application/vnd.plotly.v1+json": {
       "config": {
        "plotlyServerURL": "https://plot.ly"
       },
       "data": [
        {
         "line": {
          "color": "blue"
         },
         "mode": "lines",
         "name": "Actual TARGET",
         "type": "scatter",
         "x": [
          "2020-02-01T00:00:00",
          "2020-03-01T00:00:00",
          "2020-04-01T00:00:00",
          "2020-05-01T00:00:00",
          "2020-06-01T00:00:00",
          "2020-07-01T00:00:00",
          "2020-08-01T00:00:00",
          "2020-09-01T00:00:00",
          "2020-10-01T00:00:00",
          "2020-11-01T00:00:00",
          "2020-12-01T00:00:00",
          "2021-01-01T00:00:00",
          "2021-02-01T00:00:00",
          "2021-03-01T00:00:00",
          "2021-04-01T00:00:00",
          "2021-05-01T00:00:00",
          "2021-06-01T00:00:00",
          "2021-07-01T00:00:00",
          "2021-08-01T00:00:00",
          "2021-09-01T00:00:00",
          "2021-10-01T00:00:00",
          "2021-11-01T00:00:00",
          "2021-12-01T00:00:00",
          "2022-01-01T00:00:00",
          "2022-02-01T00:00:00",
          "2022-03-01T00:00:00",
          "2022-04-01T00:00:00",
          "2022-05-01T00:00:00",
          "2022-06-01T00:00:00",
          "2022-07-01T00:00:00",
          "2022-08-01T00:00:00",
          "2022-09-01T00:00:00",
          "2022-10-01T00:00:00",
          "2022-11-01T00:00:00",
          "2022-12-01T00:00:00",
          "2023-01-01T00:00:00",
          "2023-02-01T00:00:00",
          "2023-03-01T00:00:00",
          "2023-04-01T00:00:00",
          "2023-05-01T00:00:00",
          "2023-06-01T00:00:00",
          "2023-07-01T00:00:00",
          "2023-08-01T00:00:00",
          "2023-09-01T00:00:00",
          "2023-10-01T00:00:00",
          "2023-11-01T00:00:00",
          "2023-12-01T00:00:00",
          "2024-01-01T00:00:00",
          "2024-02-01T00:00:00",
          "2024-03-01T00:00:00",
          "2024-04-01T00:00:00",
          "2024-05-01T00:00:00",
          "2024-06-01T00:00:00",
          "2024-07-01T00:00:00"
         ],
         "y": [
          1.75,
          0.25,
          0.25,
          0.25,
          0.25,
          0.25,
          0.25,
          0.25,
          0.25,
          0.25,
          0.25,
          0.25,
          0.25,
          0.25,
          0.25,
          0.25,
          0.25,
          0.25,
          0.25,
          0.25,
          0.25,
          0.25,
          0.25,
          0.25,
          0.25,
          0.5,
          0.5,
          1,
          1.75,
          2.5,
          2.5,
          3.2500000000000004,
          3.2500000000000004,
          4,
          4.500000000000001,
          4.500000000000001,
          4.75,
          5,
          5,
          5.25,
          5.25,
          5.499999999999999,
          5.499999999999999,
          5.499999999999999,
          5.499999999999999,
          5.499999999999999,
          5.499999999999999,
          5.499999999999999,
          5.499999999999999,
          5.499999999999999,
          5.499999999999999,
          5.499999999999999,
          5.499999999999999,
          5.499999999999999
         ]
        },
        {
         "line": {
          "color": "red",
          "dash": "dash"
         },
         "mode": "lines",
         "name": "Predicted TARGET",
         "type": "scatter",
         "x": [
          "2020-02-01T00:00:00",
          "2020-03-01T00:00:00",
          "2020-04-01T00:00:00",
          "2020-05-01T00:00:00",
          "2020-06-01T00:00:00",
          "2020-07-01T00:00:00",
          "2020-08-01T00:00:00",
          "2020-09-01T00:00:00",
          "2020-10-01T00:00:00",
          "2020-11-01T00:00:00",
          "2020-12-01T00:00:00",
          "2021-01-01T00:00:00",
          "2021-02-01T00:00:00",
          "2021-03-01T00:00:00",
          "2021-04-01T00:00:00",
          "2021-05-01T00:00:00",
          "2021-06-01T00:00:00",
          "2021-07-01T00:00:00",
          "2021-08-01T00:00:00",
          "2021-09-01T00:00:00",
          "2021-10-01T00:00:00",
          "2021-11-01T00:00:00",
          "2021-12-01T00:00:00",
          "2022-01-01T00:00:00",
          "2022-02-01T00:00:00",
          "2022-03-01T00:00:00",
          "2022-04-01T00:00:00",
          "2022-05-01T00:00:00",
          "2022-06-01T00:00:00",
          "2022-07-01T00:00:00",
          "2022-08-01T00:00:00",
          "2022-09-01T00:00:00",
          "2022-10-01T00:00:00",
          "2022-11-01T00:00:00",
          "2022-12-01T00:00:00",
          "2023-01-01T00:00:00",
          "2023-02-01T00:00:00",
          "2023-03-01T00:00:00",
          "2023-04-01T00:00:00",
          "2023-05-01T00:00:00",
          "2023-06-01T00:00:00",
          "2023-07-01T00:00:00",
          "2023-08-01T00:00:00",
          "2023-09-01T00:00:00",
          "2023-10-01T00:00:00",
          "2023-11-01T00:00:00",
          "2023-12-01T00:00:00",
          "2024-01-01T00:00:00",
          "2024-02-01T00:00:00",
          "2024-03-01T00:00:00",
          "2024-04-01T00:00:00",
          "2024-05-01T00:00:00",
          "2024-06-01T00:00:00",
          "2024-07-01T00:00:00"
         ],
         "y": [
          1.9512913227081299,
          1.909265160560608,
          1.8758209943771362,
          1.6241271495819092,
          1.2331782579421997,
          0.8769006729125977,
          0.5626848936080933,
          0.4404134154319763,
          0.41678544878959656,
          0.4417777359485626,
          0.4506538212299347,
          0.45747697353363037,
          0.46028175950050354,
          0.4569464921951294,
          0.449220210313797,
          0.4627375900745392,
          0.5750348567962646,
          0.7594224810600281,
          0.949684739112854,
          1.1035209894180298,
          1.2888805866241455,
          1.4865074157714844,
          1.6684757471084595,
          1.8128987550735474,
          1.9372063875198364,
          2.0794575214385986,
          2.2283682823181152,
          2.4373364448547363,
          2.663825511932373,
          2.91394305229187,
          3.1166677474975586,
          3.2867605686187744,
          3.480076551437378,
          3.6432409286499023,
          3.8043313026428223,
          3.9238767623901367,
          3.9379162788391113,
          3.9440019130706787,
          3.9580078125,
          3.971203327178955,
          4.071849822998047,
          4.178268909454346,
          4.204276084899902,
          4.2842864990234375,
          4.385767459869385,
          4.434545516967773,
          4.557382583618164,
          4.670174598693848,
          4.802672863006592,
          4.952874660491943,
          5.091924667358398,
          5.188656330108643,
          5.232785224914551,
          5.288712978363037
         ]
        }
       ],
       "layout": {
        "autosize": true,
        "legend": {
         "title": {
          "text": "Legend"
         }
        },
        "template": {
         "data": {
          "bar": [
           {
            "error_x": {
             "color": "#2a3f5f"
            },
            "error_y": {
             "color": "#2a3f5f"
            },
            "marker": {
             "line": {
              "color": "#E5ECF6",
              "width": 0.5
             },
             "pattern": {
              "fillmode": "overlay",
              "size": 10,
              "solidity": 0.2
             }
            },
            "type": "bar"
           }
          ],
          "barpolar": [
           {
            "marker": {
             "line": {
              "color": "#E5ECF6",
              "width": 0.5
             },
             "pattern": {
              "fillmode": "overlay",
              "size": 10,
              "solidity": 0.2
             }
            },
            "type": "barpolar"
           }
          ],
          "carpet": [
           {
            "aaxis": {
             "endlinecolor": "#2a3f5f",
             "gridcolor": "white",
             "linecolor": "white",
             "minorgridcolor": "white",
             "startlinecolor": "#2a3f5f"
            },
            "baxis": {
             "endlinecolor": "#2a3f5f",
             "gridcolor": "white",
             "linecolor": "white",
             "minorgridcolor": "white",
             "startlinecolor": "#2a3f5f"
            },
            "type": "carpet"
           }
          ],
          "choropleth": [
           {
            "colorbar": {
             "outlinewidth": 0,
             "ticks": ""
            },
            "type": "choropleth"
           }
          ],
          "contour": [
           {
            "colorbar": {
             "outlinewidth": 0,
             "ticks": ""
            },
            "colorscale": [
             [
              0,
              "#0d0887"
             ],
             [
              0.1111111111111111,
              "#46039f"
             ],
             [
              0.2222222222222222,
              "#7201a8"
             ],
             [
              0.3333333333333333,
              "#9c179e"
             ],
             [
              0.4444444444444444,
              "#bd3786"
             ],
             [
              0.5555555555555556,
              "#d8576b"
             ],
             [
              0.6666666666666666,
              "#ed7953"
             ],
             [
              0.7777777777777778,
              "#fb9f3a"
             ],
             [
              0.8888888888888888,
              "#fdca26"
             ],
             [
              1,
              "#f0f921"
             ]
            ],
            "type": "contour"
           }
          ],
          "contourcarpet": [
           {
            "colorbar": {
             "outlinewidth": 0,
             "ticks": ""
            },
            "type": "contourcarpet"
           }
          ],
          "heatmap": [
           {
            "colorbar": {
             "outlinewidth": 0,
             "ticks": ""
            },
            "colorscale": [
             [
              0,
              "#0d0887"
             ],
             [
              0.1111111111111111,
              "#46039f"
             ],
             [
              0.2222222222222222,
              "#7201a8"
             ],
             [
              0.3333333333333333,
              "#9c179e"
             ],
             [
              0.4444444444444444,
              "#bd3786"
             ],
             [
              0.5555555555555556,
              "#d8576b"
             ],
             [
              0.6666666666666666,
              "#ed7953"
             ],
             [
              0.7777777777777778,
              "#fb9f3a"
             ],
             [
              0.8888888888888888,
              "#fdca26"
             ],
             [
              1,
              "#f0f921"
             ]
            ],
            "type": "heatmap"
           }
          ],
          "heatmapgl": [
           {
            "colorbar": {
             "outlinewidth": 0,
             "ticks": ""
            },
            "colorscale": [
             [
              0,
              "#0d0887"
             ],
             [
              0.1111111111111111,
              "#46039f"
             ],
             [
              0.2222222222222222,
              "#7201a8"
             ],
             [
              0.3333333333333333,
              "#9c179e"
             ],
             [
              0.4444444444444444,
              "#bd3786"
             ],
             [
              0.5555555555555556,
              "#d8576b"
             ],
             [
              0.6666666666666666,
              "#ed7953"
             ],
             [
              0.7777777777777778,
              "#fb9f3a"
             ],
             [
              0.8888888888888888,
              "#fdca26"
             ],
             [
              1,
              "#f0f921"
             ]
            ],
            "type": "heatmapgl"
           }
          ],
          "histogram": [
           {
            "marker": {
             "pattern": {
              "fillmode": "overlay",
              "size": 10,
              "solidity": 0.2
             }
            },
            "type": "histogram"
           }
          ],
          "histogram2d": [
           {
            "colorbar": {
             "outlinewidth": 0,
             "ticks": ""
            },
            "colorscale": [
             [
              0,
              "#0d0887"
             ],
             [
              0.1111111111111111,
              "#46039f"
             ],
             [
              0.2222222222222222,
              "#7201a8"
             ],
             [
              0.3333333333333333,
              "#9c179e"
             ],
             [
              0.4444444444444444,
              "#bd3786"
             ],
             [
              0.5555555555555556,
              "#d8576b"
             ],
             [
              0.6666666666666666,
              "#ed7953"
             ],
             [
              0.7777777777777778,
              "#fb9f3a"
             ],
             [
              0.8888888888888888,
              "#fdca26"
             ],
             [
              1,
              "#f0f921"
             ]
            ],
            "type": "histogram2d"
           }
          ],
          "histogram2dcontour": [
           {
            "colorbar": {
             "outlinewidth": 0,
             "ticks": ""
            },
            "colorscale": [
             [
              0,
              "#0d0887"
             ],
             [
              0.1111111111111111,
              "#46039f"
             ],
             [
              0.2222222222222222,
              "#7201a8"
             ],
             [
              0.3333333333333333,
              "#9c179e"
             ],
             [
              0.4444444444444444,
              "#bd3786"
             ],
             [
              0.5555555555555556,
              "#d8576b"
             ],
             [
              0.6666666666666666,
              "#ed7953"
             ],
             [
              0.7777777777777778,
              "#fb9f3a"
             ],
             [
              0.8888888888888888,
              "#fdca26"
             ],
             [
              1,
              "#f0f921"
             ]
            ],
            "type": "histogram2dcontour"
           }
          ],
          "mesh3d": [
           {
            "colorbar": {
             "outlinewidth": 0,
             "ticks": ""
            },
            "type": "mesh3d"
           }
          ],
          "parcoords": [
           {
            "line": {
             "colorbar": {
              "outlinewidth": 0,
              "ticks": ""
             }
            },
            "type": "parcoords"
           }
          ],
          "pie": [
           {
            "automargin": true,
            "type": "pie"
           }
          ],
          "scatter": [
           {
            "fillpattern": {
             "fillmode": "overlay",
             "size": 10,
             "solidity": 0.2
            },
            "type": "scatter"
           }
          ],
          "scatter3d": [
           {
            "line": {
             "colorbar": {
              "outlinewidth": 0,
              "ticks": ""
             }
            },
            "marker": {
             "colorbar": {
              "outlinewidth": 0,
              "ticks": ""
             }
            },
            "type": "scatter3d"
           }
          ],
          "scattercarpet": [
           {
            "marker": {
             "colorbar": {
              "outlinewidth": 0,
              "ticks": ""
             }
            },
            "type": "scattercarpet"
           }
          ],
          "scattergeo": [
           {
            "marker": {
             "colorbar": {
              "outlinewidth": 0,
              "ticks": ""
             }
            },
            "type": "scattergeo"
           }
          ],
          "scattergl": [
           {
            "marker": {
             "colorbar": {
              "outlinewidth": 0,
              "ticks": ""
             }
            },
            "type": "scattergl"
           }
          ],
          "scattermapbox": [
           {
            "marker": {
             "colorbar": {
              "outlinewidth": 0,
              "ticks": ""
             }
            },
            "type": "scattermapbox"
           }
          ],
          "scatterpolar": [
           {
            "marker": {
             "colorbar": {
              "outlinewidth": 0,
              "ticks": ""
             }
            },
            "type": "scatterpolar"
           }
          ],
          "scatterpolargl": [
           {
            "marker": {
             "colorbar": {
              "outlinewidth": 0,
              "ticks": ""
             }
            },
            "type": "scatterpolargl"
           }
          ],
          "scatterternary": [
           {
            "marker": {
             "colorbar": {
              "outlinewidth": 0,
              "ticks": ""
             }
            },
            "type": "scatterternary"
           }
          ],
          "surface": [
           {
            "colorbar": {
             "outlinewidth": 0,
             "ticks": ""
            },
            "colorscale": [
             [
              0,
              "#0d0887"
             ],
             [
              0.1111111111111111,
              "#46039f"
             ],
             [
              0.2222222222222222,
              "#7201a8"
             ],
             [
              0.3333333333333333,
              "#9c179e"
             ],
             [
              0.4444444444444444,
              "#bd3786"
             ],
             [
              0.5555555555555556,
              "#d8576b"
             ],
             [
              0.6666666666666666,
              "#ed7953"
             ],
             [
              0.7777777777777778,
              "#fb9f3a"
             ],
             [
              0.8888888888888888,
              "#fdca26"
             ],
             [
              1,
              "#f0f921"
             ]
            ],
            "type": "surface"
           }
          ],
          "table": [
           {
            "cells": {
             "fill": {
              "color": "#EBF0F8"
             },
             "line": {
              "color": "white"
             }
            },
            "header": {
             "fill": {
              "color": "#C8D4E3"
             },
             "line": {
              "color": "white"
             }
            },
            "type": "table"
           }
          ]
         },
         "layout": {
          "annotationdefaults": {
           "arrowcolor": "#2a3f5f",
           "arrowhead": 0,
           "arrowwidth": 1
          },
          "autotypenumbers": "strict",
          "coloraxis": {
           "colorbar": {
            "outlinewidth": 0,
            "ticks": ""
           }
          },
          "colorscale": {
           "diverging": [
            [
             0,
             "#8e0152"
            ],
            [
             0.1,
             "#c51b7d"
            ],
            [
             0.2,
             "#de77ae"
            ],
            [
             0.3,
             "#f1b6da"
            ],
            [
             0.4,
             "#fde0ef"
            ],
            [
             0.5,
             "#f7f7f7"
            ],
            [
             0.6,
             "#e6f5d0"
            ],
            [
             0.7,
             "#b8e186"
            ],
            [
             0.8,
             "#7fbc41"
            ],
            [
             0.9,
             "#4d9221"
            ],
            [
             1,
             "#276419"
            ]
           ],
           "sequential": [
            [
             0,
             "#0d0887"
            ],
            [
             0.1111111111111111,
             "#46039f"
            ],
            [
             0.2222222222222222,
             "#7201a8"
            ],
            [
             0.3333333333333333,
             "#9c179e"
            ],
            [
             0.4444444444444444,
             "#bd3786"
            ],
            [
             0.5555555555555556,
             "#d8576b"
            ],
            [
             0.6666666666666666,
             "#ed7953"
            ],
            [
             0.7777777777777778,
             "#fb9f3a"
            ],
            [
             0.8888888888888888,
             "#fdca26"
            ],
            [
             1,
             "#f0f921"
            ]
           ],
           "sequentialminus": [
            [
             0,
             "#0d0887"
            ],
            [
             0.1111111111111111,
             "#46039f"
            ],
            [
             0.2222222222222222,
             "#7201a8"
            ],
            [
             0.3333333333333333,
             "#9c179e"
            ],
            [
             0.4444444444444444,
             "#bd3786"
            ],
            [
             0.5555555555555556,
             "#d8576b"
            ],
            [
             0.6666666666666666,
             "#ed7953"
            ],
            [
             0.7777777777777778,
             "#fb9f3a"
            ],
            [
             0.8888888888888888,
             "#fdca26"
            ],
            [
             1,
             "#f0f921"
            ]
           ]
          },
          "colorway": [
           "#636efa",
           "#EF553B",
           "#00cc96",
           "#ab63fa",
           "#FFA15A",
           "#19d3f3",
           "#FF6692",
           "#B6E880",
           "#FF97FF",
           "#FECB52"
          ],
          "font": {
           "color": "#2a3f5f"
          },
          "geo": {
           "bgcolor": "white",
           "lakecolor": "white",
           "landcolor": "#E5ECF6",
           "showlakes": true,
           "showland": true,
           "subunitcolor": "white"
          },
          "hoverlabel": {
           "align": "left"
          },
          "hovermode": "closest",
          "mapbox": {
           "style": "light"
          },
          "paper_bgcolor": "white",
          "plot_bgcolor": "#E5ECF6",
          "polar": {
           "angularaxis": {
            "gridcolor": "white",
            "linecolor": "white",
            "ticks": ""
           },
           "bgcolor": "#E5ECF6",
           "radialaxis": {
            "gridcolor": "white",
            "linecolor": "white",
            "ticks": ""
           }
          },
          "scene": {
           "xaxis": {
            "backgroundcolor": "#E5ECF6",
            "gridcolor": "white",
            "gridwidth": 2,
            "linecolor": "white",
            "showbackground": true,
            "ticks": "",
            "zerolinecolor": "white"
           },
           "yaxis": {
            "backgroundcolor": "#E5ECF6",
            "gridcolor": "white",
            "gridwidth": 2,
            "linecolor": "white",
            "showbackground": true,
            "ticks": "",
            "zerolinecolor": "white"
           },
           "zaxis": {
            "backgroundcolor": "#E5ECF6",
            "gridcolor": "white",
            "gridwidth": 2,
            "linecolor": "white",
            "showbackground": true,
            "ticks": "",
            "zerolinecolor": "white"
           }
          },
          "shapedefaults": {
           "line": {
            "color": "#2a3f5f"
           }
          },
          "ternary": {
           "aaxis": {
            "gridcolor": "white",
            "linecolor": "white",
            "ticks": ""
           },
           "baxis": {
            "gridcolor": "white",
            "linecolor": "white",
            "ticks": ""
           },
           "bgcolor": "#E5ECF6",
           "caxis": {
            "gridcolor": "white",
            "linecolor": "white",
            "ticks": ""
           }
          },
          "title": {
           "x": 0.05
          },
          "xaxis": {
           "automargin": true,
           "gridcolor": "white",
           "linecolor": "white",
           "ticks": "",
           "title": {
            "standoff": 15
           },
           "zerolinecolor": "white",
           "zerolinewidth": 2
          },
          "yaxis": {
           "automargin": true,
           "gridcolor": "white",
           "linecolor": "white",
           "ticks": "",
           "title": {
            "standoff": 15
           },
           "zerolinecolor": "white",
           "zerolinewidth": 2
          }
         }
        },
        "title": {
         "text": "Actual vs Predicted TARGET"
        },
        "xaxis": {
         "autorange": true,
         "range": [
          "2020-02-01",
          "2024-07-01"
         ],
         "title": {
          "text": "Date"
         },
         "type": "date"
        },
        "yaxis": {
         "autorange": true,
         "range": [
          -0.041666666666666574,
          5.791666666666666
         ],
         "title": {
          "text": "TARGET"
         },
         "type": "linear"
        }
       }
      },
      "image/png": "[encoded data removed]",
      "text/html": [
       "<div>                            <div id=\"9b9caf8f-99ac-4ed0-9a25-eb5a6538c800\" class=\"plotly-graph-div\" style=\"height:525px; width:100%;\"></div>            <script type=\"text/javascript\">                require([\"plotly\"], function(Plotly) {                    window.PLOTLYENV=window.PLOTLYENV || {};                                    if (document.getElementById(\"9b9caf8f-99ac-4ed0-9a25-eb5a6538c800\")) {                    Plotly.newPlot(                        \"9b9caf8f-99ac-4ed0-9a25-eb5a6538c800\",                        [{\"line\":{\"color\":\"blue\"},\"mode\":\"lines\",\"name\":\"Actual TARGET\",\"x\":[\"2020-02-01T00:00:00\",\"2020-03-01T00:00:00\",\"2020-04-01T00:00:00\",\"2020-05-01T00:00:00\",\"2020-06-01T00:00:00\",\"2020-07-01T00:00:00\",\"2020-08-01T00:00:00\",\"2020-09-01T00:00:00\",\"2020-10-01T00:00:00\",\"2020-11-01T00:00:00\",\"2020-12-01T00:00:00\",\"2021-01-01T00:00:00\",\"2021-02-01T00:00:00\",\"2021-03-01T00:00:00\",\"2021-04-01T00:00:00\",\"2021-05-01T00:00:00\",\"2021-06-01T00:00:00\",\"2021-07-01T00:00:00\",\"2021-08-01T00:00:00\",\"2021-09-01T00:00:00\",\"2021-10-01T00:00:00\",\"2021-11-01T00:00:00\",\"2021-12-01T00:00:00\",\"2022-01-01T00:00:00\",\"2022-02-01T00:00:00\",\"2022-03-01T00:00:00\",\"2022-04-01T00:00:00\",\"2022-05-01T00:00:00\",\"2022-06-01T00:00:00\",\"2022-07-01T00:00:00\",\"2022-08-01T00:00:00\",\"2022-09-01T00:00:00\",\"2022-10-01T00:00:00\",\"2022-11-01T00:00:00\",\"2022-12-01T00:00:00\",\"2023-01-01T00:00:00\",\"2023-02-01T00:00:00\",\"2023-03-01T00:00:00\",\"2023-04-01T00:00:00\",\"2023-05-01T00:00:00\",\"2023-06-01T00:00:00\",\"2023-07-01T00:00:00\",\"2023-08-01T00:00:00\",\"2023-09-01T00:00:00\",\"2023-10-01T00:00:00\",\"2023-11-01T00:00:00\",\"2023-12-01T00:00:00\",\"2024-01-01T00:00:00\",\"2024-02-01T00:00:00\",\"2024-03-01T00:00:00\",\"2024-04-01T00:00:00\",\"2024-05-01T00:00:00\",\"2024-06-01T00:00:00\",\"2024-07-01T00:00:00\"],\"y\":[1.75,0.25,0.25,0.25,0.25,0.25,0.25,0.25,0.25,0.25,0.25,0.25,0.25,0.25,0.25,0.25,0.25,0.25,0.25,0.25,0.25,0.25,0.25,0.25,0.25,0.5,0.5,1.0,1.75,2.5,2.5,3.2500000000000004,3.2500000000000004,4.0,4.500000000000001,4.500000000000001,4.75,5.0,5.0,5.25,5.25,5.499999999999999,5.499999999999999,5.499999999999999,5.499999999999999,5.499999999999999,5.499999999999999,5.499999999999999,5.499999999999999,5.499999999999999,5.499999999999999,5.499999999999999,5.499999999999999,5.499999999999999],\"type\":\"scatter\"},{\"line\":{\"color\":\"red\",\"dash\":\"dash\"},\"mode\":\"lines\",\"name\":\"Predicted TARGET\",\"x\":[\"2020-02-01T00:00:00\",\"2020-03-01T00:00:00\",\"2020-04-01T00:00:00\",\"2020-05-01T00:00:00\",\"2020-06-01T00:00:00\",\"2020-07-01T00:00:00\",\"2020-08-01T00:00:00\",\"2020-09-01T00:00:00\",\"2020-10-01T00:00:00\",\"2020-11-01T00:00:00\",\"2020-12-01T00:00:00\",\"2021-01-01T00:00:00\",\"2021-02-01T00:00:00\",\"2021-03-01T00:00:00\",\"2021-04-01T00:00:00\",\"2021-05-01T00:00:00\",\"2021-06-01T00:00:00\",\"2021-07-01T00:00:00\",\"2021-08-01T00:00:00\",\"2021-09-01T00:00:00\",\"2021-10-01T00:00:00\",\"2021-11-01T00:00:00\",\"2021-12-01T00:00:00\",\"2022-01-01T00:00:00\",\"2022-02-01T00:00:00\",\"2022-03-01T00:00:00\",\"2022-04-01T00:00:00\",\"2022-05-01T00:00:00\",\"2022-06-01T00:00:00\",\"2022-07-01T00:00:00\",\"2022-08-01T00:00:00\",\"2022-09-01T00:00:00\",\"2022-10-01T00:00:00\",\"2022-11-01T00:00:00\",\"2022-12-01T00:00:00\",\"2023-01-01T00:00:00\",\"2023-02-01T00:00:00\",\"2023-03-01T00:00:00\",\"2023-04-01T00:00:00\",\"2023-05-01T00:00:00\",\"2023-06-01T00:00:00\",\"2023-07-01T00:00:00\",\"2023-08-01T00:00:00\",\"2023-09-01T00:00:00\",\"2023-10-01T00:00:00\",\"2023-11-01T00:00:00\",\"2023-12-01T00:00:00\",\"2024-01-01T00:00:00\",\"2024-02-01T00:00:00\",\"2024-03-01T00:00:00\",\"2024-04-01T00:00:00\",\"2024-05-01T00:00:00\",\"2024-06-01T00:00:00\",\"2024-07-01T00:00:00\"],\"y\":[1.9512913227081299,1.909265160560608,1.8758209943771362,1.6241271495819092,1.2331782579421997,0.8769006729125977,0.5626848936080933,0.4404134154319763,0.41678544878959656,0.4417777359485626,0.4506538212299347,0.45747697353363037,0.46028175950050354,0.4569464921951294,0.449220210313797,0.4627375900745392,0.5750348567962646,0.7594224810600281,0.949684739112854,1.1035209894180298,1.2888805866241455,1.4865074157714844,1.6684757471084595,1.8128987550735474,1.9372063875198364,2.0794575214385986,2.2283682823181152,2.4373364448547363,2.663825511932373,2.91394305229187,3.1166677474975586,3.2867605686187744,3.480076551437378,3.6432409286499023,3.8043313026428223,3.9238767623901367,3.9379162788391113,3.9440019130706787,3.9580078125,3.971203327178955,4.071849822998047,4.178268909454346,4.204276084899902,4.2842864990234375,4.385767459869385,4.434545516967773,4.557382583618164,4.670174598693848,4.802672863006592,4.952874660491943,5.091924667358398,5.188656330108643,5.232785224914551,5.288712978363037],\"type\":\"scatter\"}],                        {\"template\":{\"data\":{\"histogram2dcontour\":[{\"type\":\"histogram2dcontour\",\"colorbar\":{\"outlinewidth\":0,\"ticks\":\"\"},\"colorscale\":[[0.0,\"#0d0887\"],[0.1111111111111111,\"#46039f\"],[0.2222222222222222,\"#7201a8\"],[0.3333333333333333,\"#9c179e\"],[0.4444444444444444,\"#bd3786\"],[0.5555555555555556,\"#d8576b\"],[0.6666666666666666,\"#ed7953\"],[0.7777777777777778,\"#fb9f3a\"],[0.8888888888888888,\"#fdca26\"],[1.0,\"#f0f921\"]]}],\"choropleth\":[{\"type\":\"choropleth\",\"colorbar\":{\"outlinewidth\":0,\"ticks\":\"\"}}],\"histogram2d\":[{\"type\":\"histogram2d\",\"colorbar\":{\"outlinewidth\":0,\"ticks\":\"\"},\"colorscale\":[[0.0,\"#0d0887\"],[0.1111111111111111,\"#46039f\"],[0.2222222222222222,\"#7201a8\"],[0.3333333333333333,\"#9c179e\"],[0.4444444444444444,\"#bd3786\"],[0.5555555555555556,\"#d8576b\"],[0.6666666666666666,\"#ed7953\"],[0.7777777777777778,\"#fb9f3a\"],[0.8888888888888888,\"#fdca26\"],[1.0,\"#f0f921\"]]}],\"heatmap\":[{\"type\":\"heatmap\",\"colorbar\":{\"outlinewidth\":0,\"ticks\":\"\"},\"colorscale\":[[0.0,\"#0d0887\"],[0.1111111111111111,\"#46039f\"],[0.2222222222222222,\"#7201a8\"],[0.3333333333333333,\"#9c179e\"],[0.4444444444444444,\"#bd3786\"],[0.5555555555555556,\"#d8576b\"],[0.6666666666666666,\"#ed7953\"],[0.7777777777777778,\"#fb9f3a\"],[0.8888888888888888,\"#fdca26\"],[1.0,\"#f0f921\"]]}],\"heatmapgl\":[{\"type\":\"heatmapgl\",\"colorbar\":{\"outlinewidth\":0,\"ticks\":\"\"},\"colorscale\":[[0.0,\"#0d0887\"],[0.1111111111111111,\"#46039f\"],[0.2222222222222222,\"#7201a8\"],[0.3333333333333333,\"#9c179e\"],[0.4444444444444444,\"#bd3786\"],[0.5555555555555556,\"#d8576b\"],[0.6666666666666666,\"#ed7953\"],[0.7777777777777778,\"#fb9f3a\"],[0.8888888888888888,\"#fdca26\"],[1.0,\"#f0f921\"]]}],\"contourcarpet\":[{\"type\":\"contourcarpet\",\"colorbar\":{\"outlinewidth\":0,\"ticks\":\"\"}}],\"contour\":[{\"type\":\"contour\",\"colorbar\":{\"outlinewidth\":0,\"ticks\":\"\"},\"colorscale\":[[0.0,\"#0d0887\"],[0.1111111111111111,\"#46039f\"],[0.2222222222222222,\"#7201a8\"],[0.3333333333333333,\"#9c179e\"],[0.4444444444444444,\"#bd3786\"],[0.5555555555555556,\"#d8576b\"],[0.6666666666666666,\"#ed7953\"],[0.7777777777777778,\"#fb9f3a\"],[0.8888888888888888,\"#fdca26\"],[1.0,\"#f0f921\"]]}],\"surface\":[{\"type\":\"surface\",\"colorbar\":{\"outlinewidth\":0,\"ticks\":\"\"},\"colorscale\":[[0.0,\"#0d0887\"],[0.1111111111111111,\"#46039f\"],[0.2222222222222222,\"#7201a8\"],[0.3333333333333333,\"#9c179e\"],[0.4444444444444444,\"#bd3786\"],[0.5555555555555556,\"#d8576b\"],[0.6666666666666666,\"#ed7953\"],[0.7777777777777778,\"#fb9f3a\"],[0.8888888888888888,\"#fdca26\"],[1.0,\"#f0f921\"]]}],\"mesh3d\":[{\"type\":\"mesh3d\",\"colorbar\":{\"outlinewidth\":0,\"ticks\":\"\"}}],\"scatter\":[{\"fillpattern\":{\"fillmode\":\"overlay\",\"size\":10,\"solidity\":0.2},\"type\":\"scatter\"}],\"parcoords\":[{\"type\":\"parcoords\",\"line\":{\"colorbar\":{\"outlinewidth\":0,\"ticks\":\"\"}}}],\"scatterpolargl\":[{\"type\":\"scatterpolargl\",\"marker\":{\"colorbar\":{\"outlinewidth\":0,\"ticks\":\"\"}}}],\"bar\":[{\"error_x\":{\"color\":\"#2a3f5f\"},\"error_y\":{\"color\":\"#2a3f5f\"},\"marker\":{\"line\":{\"color\":\"#E5ECF6\",\"width\":0.5},\"pattern\":{\"fillmode\":\"overlay\",\"size\":10,\"solidity\":0.2}},\"type\":\"bar\"}],\"scattergeo\":[{\"type\":\"scattergeo\",\"marker\":{\"colorbar\":{\"outlinewidth\":0,\"ticks\":\"\"}}}],\"scatterpolar\":[{\"type\":\"scatterpolar\",\"marker\":{\"colorbar\":{\"outlinewidth\":0,\"ticks\":\"\"}}}],\"histogram\":[{\"marker\":{\"pattern\":{\"fillmode\":\"overlay\",\"size\":10,\"solidity\":0.2}},\"type\":\"histogram\"}],\"scattergl\":[{\"type\":\"scattergl\",\"marker\":{\"colorbar\":{\"outlinewidth\":0,\"ticks\":\"\"}}}],\"scatter3d\":[{\"type\":\"scatter3d\",\"line\":{\"colorbar\":{\"outlinewidth\":0,\"ticks\":\"\"}},\"marker\":{\"colorbar\":{\"outlinewidth\":0,\"ticks\":\"\"}}}],\"scattermapbox\":[{\"type\":\"scattermapbox\",\"marker\":{\"colorbar\":{\"outlinewidth\":0,\"ticks\":\"\"}}}],\"scatterternary\":[{\"type\":\"scatterternary\",\"marker\":{\"colorbar\":{\"outlinewidth\":0,\"ticks\":\"\"}}}],\"scattercarpet\":[{\"type\":\"scattercarpet\",\"marker\":{\"colorbar\":{\"outlinewidth\":0,\"ticks\":\"\"}}}],\"carpet\":[{\"aaxis\":{\"endlinecolor\":\"#2a3f5f\",\"gridcolor\":\"white\",\"linecolor\":\"white\",\"minorgridcolor\":\"white\",\"startlinecolor\":\"#2a3f5f\"},\"baxis\":{\"endlinecolor\":\"#2a3f5f\",\"gridcolor\":\"white\",\"linecolor\":\"white\",\"minorgridcolor\":\"white\",\"startlinecolor\":\"#2a3f5f\"},\"type\":\"carpet\"}],\"table\":[{\"cells\":{\"fill\":{\"color\":\"#EBF0F8\"},\"line\":{\"color\":\"white\"}},\"header\":{\"fill\":{\"color\":\"#C8D4E3\"},\"line\":{\"color\":\"white\"}},\"type\":\"table\"}],\"barpolar\":[{\"marker\":{\"line\":{\"color\":\"#E5ECF6\",\"width\":0.5},\"pattern\":{\"fillmode\":\"overlay\",\"size\":10,\"solidity\":0.2}},\"type\":\"barpolar\"}],\"pie\":[{\"automargin\":true,\"type\":\"pie\"}]},\"layout\":{\"autotypenumbers\":\"strict\",\"colorway\":[\"#636efa\",\"#EF553B\",\"#00cc96\",\"#ab63fa\",\"#FFA15A\",\"#19d3f3\",\"#FF6692\",\"#B6E880\",\"#FF97FF\",\"#FECB52\"],\"font\":{\"color\":\"#2a3f5f\"},\"hovermode\":\"closest\",\"hoverlabel\":{\"align\":\"left\"},\"paper_bgcolor\":\"white\",\"plot_bgcolor\":\"#E5ECF6\",\"polar\":{\"bgcolor\":\"#E5ECF6\",\"angularaxis\":{\"gridcolor\":\"white\",\"linecolor\":\"white\",\"ticks\":\"\"},\"radialaxis\":{\"gridcolor\":\"white\",\"linecolor\":\"white\",\"ticks\":\"\"}},\"ternary\":{\"bgcolor\":\"#E5ECF6\",\"aaxis\":{\"gridcolor\":\"white\",\"linecolor\":\"white\",\"ticks\":\"\"},\"baxis\":{\"gridcolor\":\"white\",\"linecolor\":\"white\",\"ticks\":\"\"},\"caxis\":{\"gridcolor\":\"white\",\"linecolor\":\"white\",\"ticks\":\"\"}},\"coloraxis\":{\"colorbar\":{\"outlinewidth\":0,\"ticks\":\"\"}},\"colorscale\":{\"sequential\":[[0.0,\"#0d0887\"],[0.1111111111111111,\"#46039f\"],[0.2222222222222222,\"#7201a8\"],[0.3333333333333333,\"#9c179e\"],[0.4444444444444444,\"#bd3786\"],[0.5555555555555556,\"#d8576b\"],[0.6666666666666666,\"#ed7953\"],[0.7777777777777778,\"#fb9f3a\"],[0.8888888888888888,\"#fdca26\"],[1.0,\"#f0f921\"]],\"sequentialminus\":[[0.0,\"#0d0887\"],[0.1111111111111111,\"#46039f\"],[0.2222222222222222,\"#7201a8\"],[0.3333333333333333,\"#9c179e\"],[0.4444444444444444,\"#bd3786\"],[0.5555555555555556,\"#d8576b\"],[0.6666666666666666,\"#ed7953\"],[0.7777777777777778,\"#fb9f3a\"],[0.8888888888888888,\"#fdca26\"],[1.0,\"#f0f921\"]],\"diverging\":[[0,\"#8e0152\"],[0.1,\"#c51b7d\"],[0.2,\"#de77ae\"],[0.3,\"#f1b6da\"],[0.4,\"#fde0ef\"],[0.5,\"#f7f7f7\"],[0.6,\"#e6f5d0\"],[0.7,\"#b8e186\"],[0.8,\"#7fbc41\"],[0.9,\"#4d9221\"],[1,\"#276419\"]]},\"xaxis\":{\"gridcolor\":\"white\",\"linecolor\":\"white\",\"ticks\":\"\",\"title\":{\"standoff\":15},\"zerolinecolor\":\"white\",\"automargin\":true,\"zerolinewidth\":2},\"yaxis\":{\"gridcolor\":\"white\",\"linecolor\":\"white\",\"ticks\":\"\",\"title\":{\"standoff\":15},\"zerolinecolor\":\"white\",\"automargin\":true,\"zerolinewidth\":2},\"scene\":{\"xaxis\":{\"backgroundcolor\":\"#E5ECF6\",\"gridcolor\":\"white\",\"linecolor\":\"white\",\"showbackground\":true,\"ticks\":\"\",\"zerolinecolor\":\"white\",\"gridwidth\":2},\"yaxis\":{\"backgroundcolor\":\"#E5ECF6\",\"gridcolor\":\"white\",\"linecolor\":\"white\",\"showbackground\":true,\"ticks\":\"\",\"zerolinecolor\":\"white\",\"gridwidth\":2},\"zaxis\":{\"backgroundcolor\":\"#E5ECF6\",\"gridcolor\":\"white\",\"linecolor\":\"white\",\"showbackground\":true,\"ticks\":\"\",\"zerolinecolor\":\"white\",\"gridwidth\":2}},\"shapedefaults\":{\"line\":{\"color\":\"#2a3f5f\"}},\"annotationdefaults\":{\"arrowcolor\":\"#2a3f5f\",\"arrowhead\":0,\"arrowwidth\":1},\"geo\":{\"bgcolor\":\"white\",\"landcolor\":\"#E5ECF6\",\"subunitcolor\":\"white\",\"showland\":true,\"showlakes\":true,\"lakecolor\":\"white\"},\"title\":{\"x\":0.05},\"mapbox\":{\"style\":\"light\"}}},\"title\":{\"text\":\"Actual vs Predicted TARGET\"},\"xaxis\":{\"title\":{\"text\":\"Date\"}},\"yaxis\":{\"title\":{\"text\":\"TARGET\"}},\"legend\":{\"title\":{\"text\":\"Legend\"}}},                        {\"responsive\": true}                    ).then(function(){\n",
       "                            \n",
       "var gd = document.getElementById('9b9caf8f-99ac-4ed0-9a25-eb5a6538c800');\n",
       "var x = new MutationObserver(function (mutations, observer) {{\n",
       "        var display = window.getComputedStyle(gd).display;\n",
       "        if (!display || display === 'none') {{\n",
       "            console.log([gd, 'removed!']);\n",
       "            Plotly.purge(gd);\n",
       "            observer.disconnect();\n",
       "        }}\n",
       "}});\n",
       "\n",
       "// Listen for the removal of the full notebook cells\n",
       "var notebookContainer = gd.closest('#notebook-container');\n",
       "if (notebookContainer) {{\n",
       "    x.observe(notebookContainer, {childList: true});\n",
       "}}\n",
       "\n",
       "// Listen for the clearing of the current output cell\n",
       "var outputEl = gd.closest('.output');\n",
       "if (outputEl) {{\n",
       "    x.observe(outputEl, {childList: true});\n",
       "}}\n",
       "\n",
       "                        })                };                });            </script>        </div>"
      ]
     },
     "metadata": {},
     "output_type": "display_data"
    }
   ],
   "source": [
    "## 복원된 데이터와 예측 값\n",
    "# 전체 검증 데이터와 예측 값 복원(정규화 해제)\n",
    "y_val_orig = MinMaxScaler().fit(target.values.reshape(-1, 1)).inverse_transform(y_val)\n",
    "y_pred_orig = MinMaxScaler().fit(target.values.reshape(-1, 1)).inverse_transform(y_pred)\n",
    "\n",
    "# 전체 데이터 포인트를 시각화\n",
    "fig = go.Figure()\n",
    "\n",
    "# 실제 값 추가\n",
    "fig.add_trace(go.Scatter(x=df.index[-len(y_val_orig):], y=y_val_orig.flatten(), mode='lines', name='Actual TARGET', line=dict(color='blue')))\n",
    "\n",
    "# 예측 값 추가\n",
    "fig.add_trace(go.Scatter(x=df.index[-len(y_pred_orig):], y=y_pred_orig.flatten(), mode='lines', name='Predicted TARGET', line=dict(color='red', dash='dash')))\n",
    "\n",
    "# 레이아웃 설정\n",
    "fig.update_layout(title='Actual vs Predicted TARGET',\n",
    "                  xaxis_title='Date',\n",
    "                  yaxis_title='TARGET',\n",
    "                  legend_title='Legend')\n",
    "\n",
    "# 그래프 보여주기\n",
    "fig.show()\n"
   ]
  },
  {
   "cell_type": "code",
   "execution_count": 56,
   "id": "1d17b4a2",
   "metadata": {},
   "outputs": [
    {
     "name": "stdout",
     "output_type": "stream",
     "text": [
      "1/1 [==============================] - 0s 12ms/step\n",
      "1/1 [==============================] - 0s 13ms/step\n",
      "1/1 [==============================] - 0s 14ms/step\n",
      "1/1 [==============================] - 0s 13ms/step\n",
      "1/1 [==============================] - 0s 12ms/step\n",
      "1/1 [==============================] - 0s 13ms/step\n",
      "1/1 [==============================] - 0s 11ms/step\n",
      "1/1 [==============================] - 0s 12ms/step\n",
      "1/1 [==============================] - 0s 14ms/step\n",
      "1/1 [==============================] - 0s 12ms/step\n",
      "1/1 [==============================] - 0s 12ms/step\n",
      "1/1 [==============================] - 0s 13ms/step\n"
     ]
    },
    {
     "data": {
      "image/png": "[encoded data removed]",
      "text/plain": [
       "<Figure size 1400x700 with 1 Axes>"
      ]
     },
     "metadata": {},
     "output_type": "display_data"
    }
   ],
   "source": [
    "## Target 미래 예측\n",
    "# 미래 예측을 위한 데이터 준비\n",
    "def predict_future(model, last_sequence, n_future):\n",
    "    predictions = []\n",
    "    sequence = last_sequence\n",
    "\n",
    "    for _ in range(n_future):\n",
    "        pred = model.predict(sequence[np.newaxis, :, :])[0, 0]\n",
    "        predictions.append(pred)\n",
    "        # 업데이트 sequence\n",
    "        sequence = np.roll(sequence, shift=-1, axis=0)\n",
    "        sequence[-1, 0] = pred\n",
    "\n",
    "    return np.array(predictions)\n",
    "\n",
    "# 마지막 시퀀스 가져오기\n",
    "last_sequence = X_val[-1]\n",
    "\n",
    "# 미래 예측\n",
    "n_future = 12  # 예측할 미래 기간 (예: 12개월)\n",
    "future_predictions = predict_future(model, last_sequence, n_future)\n",
    "\n",
    "# 미래 예측 결과를 원래 스케일로 복원\n",
    "future_predictions = scaler_target.inverse_transform(future_predictions.reshape(-1, 1))\n",
    "\n",
    "# 예측 날짜 범위 생성 (closed 매개변수 사용 없이)\n",
    "last_date = df.index[-1]\n",
    "future_dates = pd.date_range(start=last_date, periods=n_future + 1, freq='M')[1:]\n",
    "\n",
    "# 예측 결과 시각화\n",
    "plt.figure(figsize=(14, 7))\n",
    "plt.plot(df.index, df['TARGET'], label='Actual TARGET')\n",
    "plt.plot(future_dates, future_predictions, label='Future Predictions', color='red', linestyle='--')\n",
    "plt.xlabel('Date')\n",
    "plt.ylabel('TARGET')\n",
    "plt.title('Actual vs Future Predictions')\n",
    "plt.legend()\n",
    "plt.show()"
   ]
  },
  {
   "cell_type": "code",
   "execution_count": null,
   "id": "6d8c368d",
   "metadata": {},
   "outputs": [],
   "source": []
  }
 ],
 "metadata": {
  "kernelspec": {
   "display_name": "Python 3 (ipykernel)",
   "language": "python",
   "name": "python3"
  },
  "language_info": {
   "codemirror_mode": {
    "name": "ipython",
    "version": 3
   },
   "file_extension": ".py",
   "mimetype": "text/x-python",
   "name": "python",
   "nbconvert_exporter": "python",
   "pygments_lexer": "ipython3",
   "version": "3.11.7"
  }
 },
 "nbformat": 4,
 "nbformat_minor": 5
}
